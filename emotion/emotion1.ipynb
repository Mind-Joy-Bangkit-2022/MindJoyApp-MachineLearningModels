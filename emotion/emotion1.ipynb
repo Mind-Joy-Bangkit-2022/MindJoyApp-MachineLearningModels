{
  "cells": [
    {
      "cell_type": "markdown",
      "metadata": {
        "id": "b0oT9cZxRyfV"
      },
      "source": [
        "#Import Library\n",
        "\n",
        "---\n",
        "\n"
      ]
    },
    {
      "cell_type": "code",
      "execution_count": 52,
      "metadata": {
        "id": "nSBKdK23SxiH"
      },
      "outputs": [],
      "source": [
        "import zipfile\n",
        "import numpy as np # linear algebra\n",
        "import pandas as pd # data processing, CSV file I/O (e.g. pd.read_csv)\n",
        "import os\n",
        "#for dirname, _, filenames in os.walk('/kaggle/input'):\n",
        "    #for filename in filenames:\n",
        "        #print(os.path.join(dirname, filename))\n",
        "import matplotlib.pyplot as plt\n",
        "import seaborn as sns\n",
        "import tensorflow as tf\n",
        "import keras\n",
        "from keras.preprocessing import image\n",
        "from keras.models import Sequential\n",
        "from keras.layers import Conv2D, MaxPool2D, Flatten,Dense,Dropout,BatchNormalization\n",
        "from tensorflow.keras.preprocessing.image import ImageDataGenerator\n",
        "import cv2\n",
        "from tensorflow.keras.applications import VGG16, InceptionResNetV2\n",
        "from keras import regularizers\n",
        "from tensorflow.keras.optimizers import Adam,RMSprop,SGD,Adamax"
      ]
    },
    {
      "cell_type": "code",
      "execution_count": 53,
      "metadata": {
        "id": "y2E8bY4VTZbl"
      },
      "outputs": [],
      "source": [
        "plt.style.use('seaborn')"
      ]
    },
    {
      "cell_type": "markdown",
      "metadata": {
        "id": "AJBMeZ3RR-nm"
      },
      "source": [
        "#Load Data"
      ]
    },
    {
      "cell_type": "markdown",
      "metadata": {
        "id": "TcBrwonaSNWB"
      },
      "source": [
        "Dataset Link (Google Drive)"
      ]
    },
    {
      "cell_type": "code",
      "execution_count": 54,
      "metadata": {
        "id": "jXoeeg81UDRj"
      },
      "outputs": [],
      "source": [
        "# Code to read csv file into Colaboratory:\n",
        "!pip install -U -q PyDrive\n",
        "from pydrive.auth import GoogleAuth\n",
        "from pydrive.drive import GoogleDrive\n",
        "from google.colab import auth\n",
        "from oauth2client.client import GoogleCredentials\n",
        "# Authenticate and create the PyDrive client.\n",
        "auth.authenticate_user()\n",
        "gauth = GoogleAuth()\n",
        "gauth.credentials = GoogleCredentials.get_application_default()\n",
        "drive = GoogleDrive(gauth)"
      ]
    },
    {
      "cell_type": "code",
      "execution_count": 55,
      "metadata": {
        "id": "Cey7DUgITvgu"
      },
      "outputs": [],
      "source": [
        "link = 'https://drive.google.com/file/d/1m7IbaONTgIL1uRDWty8uOQp_DISjV175/view?usp=sharing' # The shareable link"
      ]
    },
    {
      "cell_type": "code",
      "execution_count": 56,
      "metadata": {
        "colab": {
          "base_uri": "https://localhost:8080/"
        },
        "id": "7KPjRpEDacpq",
        "outputId": "a21c4323-6c21-4c1f-e685-e000c59c059e"
      },
      "outputs": [
        {
          "name": "stdout",
          "output_type": "stream",
          "text": [
            "1m7IbaONTgIL1uRDWty8uOQp_DISjV175\n"
          ]
        }
      ],
      "source": [
        "# fluff, id = link.split('d/')\n",
        "id = link.split('d/')[1].split('/view?')[0]\n",
        "print (id)"
      ]
    },
    {
      "cell_type": "code",
      "execution_count": 57,
      "metadata": {
        "colab": {
          "base_uri": "https://localhost:8080/"
        },
        "id": "JtVdRjcaS8Hj",
        "outputId": "c069e34d-cf9c-4c18-f9c5-acf22fc2606f"
      },
      "outputs": [
        {
          "name": "stdout",
          "output_type": "stream",
          "text": [
            "/usr/local/lib/python3.7/dist-packages/gdown/cli.py:131: FutureWarning: Option `--id` was deprecated in version 4.3.1 and will be removed in 5.0. You don't need to pass it anymore to use a file ID.\n",
            "  category=FutureWarning,\n",
            "Downloading...\n",
            "From: https://drive.google.com/uc?id=1m7IbaONTgIL1uRDWty8uOQp_DISjV175\n",
            "To: /content/emotion1.zip\n",
            "100% 68.3M/68.3M [00:00<00:00, 374MB/s]\n"
          ]
        }
      ],
      "source": [
        "# Use this to download easily (only on google colab)\n",
        "!gdown --id 1m7IbaONTgIL1uRDWty8uOQp_DISjV175"
      ]
    },
    {
      "cell_type": "code",
      "execution_count": null,
      "metadata": {
        "colab": {
          "base_uri": "https://localhost:8080/"
        },
        "id": "hTTKTtamae8l",
        "outputId": "4eff484d-314e-4ca5-c902-7b3a280cfd74"
      },
      "outputs": [],
      "source": [
        "downloaded = drive.CreateFile({'id':id})  #drive from PyDrive\n",
        "downloaded.GetContentFile('emotion1.zip')"
      ]
    },
    {
      "cell_type": "code",
      "execution_count": 59,
      "metadata": {
        "id": "47AX-5QwapfS"
      },
      "outputs": [],
      "source": [
        "file_zip = 'emotion1.zip'\n",
        "zip_ref = zipfile.ZipFile(file_zip, 'r')\n",
        "zip_ref.extractall('./emotion1/')\n",
        "zip_ref.close()"
      ]
    },
    {
      "cell_type": "code",
      "execution_count": 60,
      "metadata": {
        "id": "eumRXzpTHFPO"
      },
      "outputs": [],
      "source": [
        "import os\n",
        "import shutil\n",
        "\n",
        "def delete(path):\n",
        "    \"\"\"path could either be relative or absolute. \"\"\"\n",
        "    # check if file or directory exists\n",
        "    if os.path.isfile(path) or os.path.islink(path):\n",
        "        # remove file\n",
        "        os.remove(path)\n",
        "    elif os.path.isdir(path):\n",
        "        # remove directory and all its content\n",
        "        shutil.rmtree(path)\n",
        "    else:\n",
        "        raise ValueError(\"Path {} is not a file or dir.\".format(path))\n",
        "\n",
        "# directory\n",
        "delete(r'/content/emotion1/train/angry')\n",
        "delete(r'/content/emotion1/train/surprised')\n",
        "delete(r'/content/emotion1/train/fearful')\n",
        "delete(r'/content/emotion1/train/disgusted')\n",
        "\n",
        "delete(r'/content/emotion1/test/angry')\n",
        "delete(r'/content/emotion1/test/surprised')\n",
        "delete(r'/content/emotion1/test/fearful')\n",
        "delete(r'/content/emotion1/test/disgusted')\n",
        "\n"
      ]
    },
    {
      "cell_type": "code",
      "execution_count": 61,
      "metadata": {
        "colab": {
          "base_uri": "https://localhost:8080/"
        },
        "id": "rZchFG3La7Nj",
        "outputId": "c2182b24-85fa-4948-f7db-c1f7deabdf10"
      },
      "outputs": [
        {
          "name": "stdout",
          "output_type": "stream",
          "text": [
            "train category:  ['happy', 'neutral', 'sad']\n",
            "test category:  ['happy', 'neutral', 'sad']\n"
          ]
        }
      ],
      "source": [
        "dir = './emotion1/train'\n",
        "testing_dir = './emotion1/test'\n",
        "\n",
        "list_category = sorted(os.listdir(dir))\n",
        "test_list_category = sorted(os.listdir(testing_dir))\n",
        "\n",
        "print('train category: ',list_category)\n",
        "print('test category: ',test_list_category)"
      ]
    },
    {
      "cell_type": "markdown",
      "metadata": {
        "id": "eBINnjmCB8ET"
      },
      "source": [
        "#"
      ]
    },
    {
      "cell_type": "markdown",
      "metadata": {
        "id": "W0WfAX8BrOX2"
      },
      "source": [
        "#Data Arrange"
      ]
    },
    {
      "cell_type": "code",
      "execution_count": 62,
      "metadata": {
        "colab": {
          "base_uri": "https://localhost:8080/"
        },
        "id": "coXeQdqsPWYP",
        "outputId": "fa42b98f-b676-4522-b55c-6086c29318af"
      },
      "outputs": [
        {
          "name": "stdout",
          "output_type": "stream",
          "text": [
            "2.8.2\n"
          ]
        }
      ],
      "source": [
        "import tensorflow as tf\n",
        "import matplotlib.pyplot as plt\n",
        "print (tf.__version__)\n",
        "from keras.preprocessing.image import ImageDataGenerator"
      ]
    },
    {
      "cell_type": "code",
      "execution_count": 63,
      "metadata": {
        "id": "MB3esiJlPYJI"
      },
      "outputs": [],
      "source": [
        "# train_dir = dir + 'train/'\n",
        "# test_dir = dir + 'test/'\n",
        "\n",
        "train_dir = dir\n",
        "test_dir = testing_dir"
      ]
    },
    {
      "cell_type": "code",
      "execution_count": 64,
      "metadata": {
        "colab": {
          "base_uri": "https://localhost:8080/"
        },
        "id": "y2jJxGc1PZjS",
        "outputId": "0c93e812-0ea2-449e-cde0-493f6541697b"
      },
      "outputs": [
        {
          "data": {
            "text/plain": [
              "['neutral', 'happy', 'sad']"
            ]
          },
          "execution_count": 64,
          "metadata": {},
          "output_type": "execute_result"
        }
      ],
      "source": [
        "target_var = os.listdir(train_dir)\n",
        "target_var"
      ]
    },
    {
      "cell_type": "code",
      "execution_count": 65,
      "metadata": {
        "colab": {
          "base_uri": "https://localhost:8080/"
        },
        "id": "PKHjvhk0lo-v",
        "outputId": "245f1ce5-64d7-4d27-a951-55a7b6530158"
      },
      "outputs": [
        {
          "data": {
            "text/plain": [
              "['neutral', 'happy', 'sad']"
            ]
          },
          "execution_count": 65,
          "metadata": {},
          "output_type": "execute_result"
        }
      ],
      "source": [
        "test_target_var = os.listdir(testing_dir)\n",
        "test_target_var"
      ]
    },
    {
      "cell_type": "code",
      "execution_count": 66,
      "metadata": {
        "colab": {
          "base_uri": "https://localhost:8080/"
        },
        "id": "-8fmBiaWrPvz",
        "outputId": "2a478910-55f7-4b63-b948-9c91e528582b"
      },
      "outputs": [
        {
          "name": "stdout",
          "output_type": "stream",
          "text": [
            "Train Data\n",
            "happy : 7215\n",
            "neutral : 4965\n",
            "sad : 4830\n"
          ]
        }
      ],
      "source": [
        "# check a lot of data for :\n",
        "# {'happy': 0, 'neutral': 1, 'sad': 2}\n",
        "print(\"Train Data\")\n",
        "\n",
        "happy_dir = os.path.join(train_dir, 'happy')\n",
        "neutral_dur = os.path.join(train_dir,'neutral')\n",
        "sad_dir = os.path.join(train_dir, 'sad')\n",
        "\n",
        "print(\"happy :\", len(os.listdir(happy_dir)))\n",
        "print(\"neutral :\", len(os.listdir(neutral_dur)))\n",
        "print(\"sad :\", len(os.listdir(sad_dir))) "
      ]
    },
    {
      "cell_type": "code",
      "execution_count": 67,
      "metadata": {
        "id": "eBpPp79ktQY0"
      },
      "outputs": [],
      "source": [
        "from glob import glob\n",
        "\n",
        "happy = glob(happy_dir + '/*.jpg') + glob(happy_dir + '/*.png')\n",
        "neutral = glob(neutral_dur + '/*.jpg') + glob(neutral_dur + '/*.png')\n",
        "sad = glob(sad_dir + '/*.jpg') + glob(sad_dir + '/*.png')"
      ]
    },
    {
      "cell_type": "code",
      "execution_count": 68,
      "metadata": {
        "colab": {
          "base_uri": "https://localhost:8080/",
          "height": 676
        },
        "id": "uU1j2iHgs33h",
        "outputId": "9b1ac1bf-e070-4c7a-b983-dd97be68201f"
      },
      "outputs": [
        {
          "data": {
            "text/html": [
              "\n",
              "  <div id=\"df-00315a2c-1af0-46e1-a7e9-5c464b6c717d\">\n",
              "    <div class=\"colab-df-container\">\n",
              "      <div>\n",
              "<style scoped>\n",
              "    .dataframe tbody tr th:only-of-type {\n",
              "        vertical-align: middle;\n",
              "    }\n",
              "\n",
              "    .dataframe tbody tr th {\n",
              "        vertical-align: top;\n",
              "    }\n",
              "\n",
              "    .dataframe thead th {\n",
              "        text-align: right;\n",
              "    }\n",
              "</style>\n",
              "<table border=\"1\" class=\"dataframe\">\n",
              "  <thead>\n",
              "    <tr style=\"text-align: right;\">\n",
              "      <th></th>\n",
              "      <th>image</th>\n",
              "      <th>target</th>\n",
              "    </tr>\n",
              "  </thead>\n",
              "  <tbody>\n",
              "    <tr>\n",
              "      <th>0</th>\n",
              "      <td>./emotion1/train/happy/im7212.png</td>\n",
              "      <td>0</td>\n",
              "    </tr>\n",
              "    <tr>\n",
              "      <th>1</th>\n",
              "      <td>./emotion1/train/sad/im3421.png</td>\n",
              "      <td>2</td>\n",
              "    </tr>\n",
              "    <tr>\n",
              "      <th>2</th>\n",
              "      <td>./emotion1/train/happy/im3709.png</td>\n",
              "      <td>0</td>\n",
              "    </tr>\n",
              "    <tr>\n",
              "      <th>3</th>\n",
              "      <td>./emotion1/train/sad/im1444.png</td>\n",
              "      <td>2</td>\n",
              "    </tr>\n",
              "    <tr>\n",
              "      <th>4</th>\n",
              "      <td>./emotion1/train/happy/im6241.png</td>\n",
              "      <td>0</td>\n",
              "    </tr>\n",
              "    <tr>\n",
              "      <th>5</th>\n",
              "      <td>./emotion1/train/neutral/im3185.png</td>\n",
              "      <td>1</td>\n",
              "    </tr>\n",
              "    <tr>\n",
              "      <th>6</th>\n",
              "      <td>./emotion1/train/happy/im6453.png</td>\n",
              "      <td>0</td>\n",
              "    </tr>\n",
              "    <tr>\n",
              "      <th>7</th>\n",
              "      <td>./emotion1/train/happy/im3588.png</td>\n",
              "      <td>0</td>\n",
              "    </tr>\n",
              "    <tr>\n",
              "      <th>8</th>\n",
              "      <td>./emotion1/train/sad/im102.png</td>\n",
              "      <td>2</td>\n",
              "    </tr>\n",
              "    <tr>\n",
              "      <th>9</th>\n",
              "      <td>./emotion1/train/happy/im2954.png</td>\n",
              "      <td>0</td>\n",
              "    </tr>\n",
              "    <tr>\n",
              "      <th>10</th>\n",
              "      <td>./emotion1/train/happy/im4331.png</td>\n",
              "      <td>0</td>\n",
              "    </tr>\n",
              "    <tr>\n",
              "      <th>11</th>\n",
              "      <td>./emotion1/train/neutral/im3408.png</td>\n",
              "      <td>1</td>\n",
              "    </tr>\n",
              "    <tr>\n",
              "      <th>12</th>\n",
              "      <td>./emotion1/train/neutral/im1342.png</td>\n",
              "      <td>1</td>\n",
              "    </tr>\n",
              "    <tr>\n",
              "      <th>13</th>\n",
              "      <td>./emotion1/train/neutral/im560.png</td>\n",
              "      <td>1</td>\n",
              "    </tr>\n",
              "    <tr>\n",
              "      <th>14</th>\n",
              "      <td>./emotion1/train/neutral/im3801.png</td>\n",
              "      <td>1</td>\n",
              "    </tr>\n",
              "    <tr>\n",
              "      <th>15</th>\n",
              "      <td>./emotion1/train/sad/im4277.png</td>\n",
              "      <td>2</td>\n",
              "    </tr>\n",
              "    <tr>\n",
              "      <th>16</th>\n",
              "      <td>./emotion1/train/neutral/im921.png</td>\n",
              "      <td>1</td>\n",
              "    </tr>\n",
              "    <tr>\n",
              "      <th>17</th>\n",
              "      <td>./emotion1/train/happy/im2188.png</td>\n",
              "      <td>0</td>\n",
              "    </tr>\n",
              "    <tr>\n",
              "      <th>18</th>\n",
              "      <td>./emotion1/train/happy/im3651.png</td>\n",
              "      <td>0</td>\n",
              "    </tr>\n",
              "    <tr>\n",
              "      <th>19</th>\n",
              "      <td>./emotion1/train/neutral/im2776.png</td>\n",
              "      <td>1</td>\n",
              "    </tr>\n",
              "  </tbody>\n",
              "</table>\n",
              "</div>\n",
              "      <button class=\"colab-df-convert\" onclick=\"convertToInteractive('df-00315a2c-1af0-46e1-a7e9-5c464b6c717d')\"\n",
              "              title=\"Convert this dataframe to an interactive table.\"\n",
              "              style=\"display:none;\">\n",
              "        \n",
              "  <svg xmlns=\"http://www.w3.org/2000/svg\" height=\"24px\"viewBox=\"0 0 24 24\"\n",
              "       width=\"24px\">\n",
              "    <path d=\"M0 0h24v24H0V0z\" fill=\"none\"/>\n",
              "    <path d=\"M18.56 5.44l.94 2.06.94-2.06 2.06-.94-2.06-.94-.94-2.06-.94 2.06-2.06.94zm-11 1L8.5 8.5l.94-2.06 2.06-.94-2.06-.94L8.5 2.5l-.94 2.06-2.06.94zm10 10l.94 2.06.94-2.06 2.06-.94-2.06-.94-.94-2.06-.94 2.06-2.06.94z\"/><path d=\"M17.41 7.96l-1.37-1.37c-.4-.4-.92-.59-1.43-.59-.52 0-1.04.2-1.43.59L10.3 9.45l-7.72 7.72c-.78.78-.78 2.05 0 2.83L4 21.41c.39.39.9.59 1.41.59.51 0 1.02-.2 1.41-.59l7.78-7.78 2.81-2.81c.8-.78.8-2.07 0-2.86zM5.41 20L4 18.59l7.72-7.72 1.47 1.35L5.41 20z\"/>\n",
              "  </svg>\n",
              "      </button>\n",
              "      \n",
              "  <style>\n",
              "    .colab-df-container {\n",
              "      display:flex;\n",
              "      flex-wrap:wrap;\n",
              "      gap: 12px;\n",
              "    }\n",
              "\n",
              "    .colab-df-convert {\n",
              "      background-color: #E8F0FE;\n",
              "      border: none;\n",
              "      border-radius: 50%;\n",
              "      cursor: pointer;\n",
              "      display: none;\n",
              "      fill: #1967D2;\n",
              "      height: 32px;\n",
              "      padding: 0 0 0 0;\n",
              "      width: 32px;\n",
              "    }\n",
              "\n",
              "    .colab-df-convert:hover {\n",
              "      background-color: #E2EBFA;\n",
              "      box-shadow: 0px 1px 2px rgba(60, 64, 67, 0.3), 0px 1px 3px 1px rgba(60, 64, 67, 0.15);\n",
              "      fill: #174EA6;\n",
              "    }\n",
              "\n",
              "    [theme=dark] .colab-df-convert {\n",
              "      background-color: #3B4455;\n",
              "      fill: #D2E3FC;\n",
              "    }\n",
              "\n",
              "    [theme=dark] .colab-df-convert:hover {\n",
              "      background-color: #434B5C;\n",
              "      box-shadow: 0px 1px 3px 1px rgba(0, 0, 0, 0.15);\n",
              "      filter: drop-shadow(0px 1px 2px rgba(0, 0, 0, 0.3));\n",
              "      fill: #FFFFFF;\n",
              "    }\n",
              "  </style>\n",
              "\n",
              "      <script>\n",
              "        const buttonEl =\n",
              "          document.querySelector('#df-00315a2c-1af0-46e1-a7e9-5c464b6c717d button.colab-df-convert');\n",
              "        buttonEl.style.display =\n",
              "          google.colab.kernel.accessAllowed ? 'block' : 'none';\n",
              "\n",
              "        async function convertToInteractive(key) {\n",
              "          const element = document.querySelector('#df-00315a2c-1af0-46e1-a7e9-5c464b6c717d');\n",
              "          const dataTable =\n",
              "            await google.colab.kernel.invokeFunction('convertToInteractive',\n",
              "                                                     [key], {});\n",
              "          if (!dataTable) return;\n",
              "\n",
              "          const docLinkHtml = 'Like what you see? Visit the ' +\n",
              "            '<a target=\"_blank\" href=https://colab.research.google.com/notebooks/data_table.ipynb>data table notebook</a>'\n",
              "            + ' to learn more about interactive tables.';\n",
              "          element.innerHTML = '';\n",
              "          dataTable['output_type'] = 'display_data';\n",
              "          await google.colab.output.renderOutput(dataTable, element);\n",
              "          const docLink = document.createElement('div');\n",
              "          docLink.innerHTML = docLinkHtml;\n",
              "          element.appendChild(docLink);\n",
              "        }\n",
              "      </script>\n",
              "    </div>\n",
              "  </div>\n",
              "  "
            ],
            "text/plain": [
              "                                  image  target\n",
              "0     ./emotion1/train/happy/im7212.png       0\n",
              "1       ./emotion1/train/sad/im3421.png       2\n",
              "2     ./emotion1/train/happy/im3709.png       0\n",
              "3       ./emotion1/train/sad/im1444.png       2\n",
              "4     ./emotion1/train/happy/im6241.png       0\n",
              "5   ./emotion1/train/neutral/im3185.png       1\n",
              "6     ./emotion1/train/happy/im6453.png       0\n",
              "7     ./emotion1/train/happy/im3588.png       0\n",
              "8        ./emotion1/train/sad/im102.png       2\n",
              "9     ./emotion1/train/happy/im2954.png       0\n",
              "10    ./emotion1/train/happy/im4331.png       0\n",
              "11  ./emotion1/train/neutral/im3408.png       1\n",
              "12  ./emotion1/train/neutral/im1342.png       1\n",
              "13   ./emotion1/train/neutral/im560.png       1\n",
              "14  ./emotion1/train/neutral/im3801.png       1\n",
              "15      ./emotion1/train/sad/im4277.png       2\n",
              "16   ./emotion1/train/neutral/im921.png       1\n",
              "17    ./emotion1/train/happy/im2188.png       0\n",
              "18    ./emotion1/train/happy/im3651.png       0\n",
              "19  ./emotion1/train/neutral/im2776.png       1"
            ]
          },
          "execution_count": 68,
          "metadata": {},
          "output_type": "execute_result"
        }
      ],
      "source": [
        "def category_decide(x):\n",
        "  value = 0\n",
        "\n",
        "  if 'happy' in x:\n",
        "    value = 0\n",
        "  elif 'neutral' in x:\n",
        "    value = 1\n",
        "  else:\n",
        "    value = 2\n",
        "  return value\n",
        "\n",
        "df = pd.DataFrame(columns=['image', 'target'])\n",
        "df['image'] = happy + neutral + sad \n",
        "df['target'] = df['image'].apply(lambda x: category_decide(x))  \n",
        "df = df.sample(frac=1).reset_index(drop=True)\n",
        "\n",
        "df.head(20)"
      ]
    },
    {
      "cell_type": "code",
      "execution_count": 69,
      "metadata": {
        "colab": {
          "base_uri": "https://localhost:8080/"
        },
        "id": "Wf4AjZvHnf3f",
        "outputId": "36c79c5f-3d47-4e7c-85b8-db0e229b3cd5"
      },
      "outputs": [
        {
          "name": "stdout",
          "output_type": "stream",
          "text": [
            "Train: (10206, 2)\n",
            "happy  : 4329\n",
            "neutral  : 2979\n",
            "sad: 2898\n",
            "\n",
            "Val: (6123, 2)\n",
            "happy  : 2597\n",
            "neutral  : 1787\n",
            "sad: 1739\n",
            "\n",
            "Test : (681, 2)\n",
            "happy  : 289\n",
            "neutral  : 199\n",
            "sad: 193\n"
          ]
        }
      ],
      "source": [
        "from sklearn.model_selection import train_test_split\n",
        "\n",
        "train_df, test_df = train_test_split(\n",
        "    df, \n",
        "    test_size=0.4, \n",
        "    random_state=14, \n",
        "    stratify=df['target']\n",
        ")\n",
        "val_df, test_df = train_test_split(\n",
        "    test_df, \n",
        "    test_size=0.1, \n",
        "    random_state=14, \n",
        "    stratify=test_df['target']\n",
        ")\n",
        "\n",
        "print(\"Train: {}\".format(train_df.shape))\n",
        "print(\"happy  : {}\".format(train_df[train_df['target'] == 0].shape[0]))\n",
        "print(\"neutral  : {}\".format(train_df[train_df['target'] == 1].shape[0]))\n",
        "print(\"sad: {}\".format(train_df[train_df['target'] == 2].shape[0]))\n",
        "\n",
        "print(\"\\nVal: {}\".format(val_df.shape))\n",
        "print(\"happy  : {}\".format(val_df[val_df['target'] == 0].shape[0]))\n",
        "print(\"neutral  : {}\".format(val_df[val_df['target'] == 1].shape[0]))\n",
        "print(\"sad: {}\".format(val_df[val_df['target'] == 2].shape[0]))\n",
        "\n",
        "\n",
        "print(\"\\nTest : {}\".format(test_df.shape))\n",
        "print(\"happy  : {}\".format(test_df[test_df['target'] == 0].shape[0]))\n",
        "print(\"neutral  : {}\".format(test_df[test_df['target'] == 1].shape[0]))\n",
        "print(\"sad: {}\".format(test_df[test_df['target'] == 2].shape[0]))"
      ]
    },
    {
      "cell_type": "code",
      "execution_count": 70,
      "metadata": {
        "colab": {
          "base_uri": "https://localhost:8080/",
          "height": 206
        },
        "id": "DoD34F8B_iwa",
        "outputId": "6c377651-d356-4158-8ae3-7a3c1fdc0a50"
      },
      "outputs": [
        {
          "data": {
            "text/html": [
              "\n",
              "  <div id=\"df-5a37026e-0d0a-4cf1-a3d0-3efe60a82d49\">\n",
              "    <div class=\"colab-df-container\">\n",
              "      <div>\n",
              "<style scoped>\n",
              "    .dataframe tbody tr th:only-of-type {\n",
              "        vertical-align: middle;\n",
              "    }\n",
              "\n",
              "    .dataframe tbody tr th {\n",
              "        vertical-align: top;\n",
              "    }\n",
              "\n",
              "    .dataframe thead th {\n",
              "        text-align: right;\n",
              "    }\n",
              "</style>\n",
              "<table border=\"1\" class=\"dataframe\">\n",
              "  <thead>\n",
              "    <tr style=\"text-align: right;\">\n",
              "      <th></th>\n",
              "      <th>image</th>\n",
              "      <th>target</th>\n",
              "    </tr>\n",
              "  </thead>\n",
              "  <tbody>\n",
              "    <tr>\n",
              "      <th>10227</th>\n",
              "      <td>./emotion1/train/sad/im1229.png</td>\n",
              "      <td>2</td>\n",
              "    </tr>\n",
              "    <tr>\n",
              "      <th>13682</th>\n",
              "      <td>./emotion1/train/happy/im5335.png</td>\n",
              "      <td>0</td>\n",
              "    </tr>\n",
              "    <tr>\n",
              "      <th>5051</th>\n",
              "      <td>./emotion1/train/neutral/im20.png</td>\n",
              "      <td>1</td>\n",
              "    </tr>\n",
              "    <tr>\n",
              "      <th>14541</th>\n",
              "      <td>./emotion1/train/sad/im1120.png</td>\n",
              "      <td>2</td>\n",
              "    </tr>\n",
              "    <tr>\n",
              "      <th>12783</th>\n",
              "      <td>./emotion1/train/neutral/im4172.png</td>\n",
              "      <td>1</td>\n",
              "    </tr>\n",
              "  </tbody>\n",
              "</table>\n",
              "</div>\n",
              "      <button class=\"colab-df-convert\" onclick=\"convertToInteractive('df-5a37026e-0d0a-4cf1-a3d0-3efe60a82d49')\"\n",
              "              title=\"Convert this dataframe to an interactive table.\"\n",
              "              style=\"display:none;\">\n",
              "        \n",
              "  <svg xmlns=\"http://www.w3.org/2000/svg\" height=\"24px\"viewBox=\"0 0 24 24\"\n",
              "       width=\"24px\">\n",
              "    <path d=\"M0 0h24v24H0V0z\" fill=\"none\"/>\n",
              "    <path d=\"M18.56 5.44l.94 2.06.94-2.06 2.06-.94-2.06-.94-.94-2.06-.94 2.06-2.06.94zm-11 1L8.5 8.5l.94-2.06 2.06-.94-2.06-.94L8.5 2.5l-.94 2.06-2.06.94zm10 10l.94 2.06.94-2.06 2.06-.94-2.06-.94-.94-2.06-.94 2.06-2.06.94z\"/><path d=\"M17.41 7.96l-1.37-1.37c-.4-.4-.92-.59-1.43-.59-.52 0-1.04.2-1.43.59L10.3 9.45l-7.72 7.72c-.78.78-.78 2.05 0 2.83L4 21.41c.39.39.9.59 1.41.59.51 0 1.02-.2 1.41-.59l7.78-7.78 2.81-2.81c.8-.78.8-2.07 0-2.86zM5.41 20L4 18.59l7.72-7.72 1.47 1.35L5.41 20z\"/>\n",
              "  </svg>\n",
              "      </button>\n",
              "      \n",
              "  <style>\n",
              "    .colab-df-container {\n",
              "      display:flex;\n",
              "      flex-wrap:wrap;\n",
              "      gap: 12px;\n",
              "    }\n",
              "\n",
              "    .colab-df-convert {\n",
              "      background-color: #E8F0FE;\n",
              "      border: none;\n",
              "      border-radius: 50%;\n",
              "      cursor: pointer;\n",
              "      display: none;\n",
              "      fill: #1967D2;\n",
              "      height: 32px;\n",
              "      padding: 0 0 0 0;\n",
              "      width: 32px;\n",
              "    }\n",
              "\n",
              "    .colab-df-convert:hover {\n",
              "      background-color: #E2EBFA;\n",
              "      box-shadow: 0px 1px 2px rgba(60, 64, 67, 0.3), 0px 1px 3px 1px rgba(60, 64, 67, 0.15);\n",
              "      fill: #174EA6;\n",
              "    }\n",
              "\n",
              "    [theme=dark] .colab-df-convert {\n",
              "      background-color: #3B4455;\n",
              "      fill: #D2E3FC;\n",
              "    }\n",
              "\n",
              "    [theme=dark] .colab-df-convert:hover {\n",
              "      background-color: #434B5C;\n",
              "      box-shadow: 0px 1px 3px 1px rgba(0, 0, 0, 0.15);\n",
              "      filter: drop-shadow(0px 1px 2px rgba(0, 0, 0, 0.3));\n",
              "      fill: #FFFFFF;\n",
              "    }\n",
              "  </style>\n",
              "\n",
              "      <script>\n",
              "        const buttonEl =\n",
              "          document.querySelector('#df-5a37026e-0d0a-4cf1-a3d0-3efe60a82d49 button.colab-df-convert');\n",
              "        buttonEl.style.display =\n",
              "          google.colab.kernel.accessAllowed ? 'block' : 'none';\n",
              "\n",
              "        async function convertToInteractive(key) {\n",
              "          const element = document.querySelector('#df-5a37026e-0d0a-4cf1-a3d0-3efe60a82d49');\n",
              "          const dataTable =\n",
              "            await google.colab.kernel.invokeFunction('convertToInteractive',\n",
              "                                                     [key], {});\n",
              "          if (!dataTable) return;\n",
              "\n",
              "          const docLinkHtml = 'Like what you see? Visit the ' +\n",
              "            '<a target=\"_blank\" href=https://colab.research.google.com/notebooks/data_table.ipynb>data table notebook</a>'\n",
              "            + ' to learn more about interactive tables.';\n",
              "          element.innerHTML = '';\n",
              "          dataTable['output_type'] = 'display_data';\n",
              "          await google.colab.output.renderOutput(dataTable, element);\n",
              "          const docLink = document.createElement('div');\n",
              "          docLink.innerHTML = docLinkHtml;\n",
              "          element.appendChild(docLink);\n",
              "        }\n",
              "      </script>\n",
              "    </div>\n",
              "  </div>\n",
              "  "
            ],
            "text/plain": [
              "                                     image  target\n",
              "10227      ./emotion1/train/sad/im1229.png       2\n",
              "13682    ./emotion1/train/happy/im5335.png       0\n",
              "5051     ./emotion1/train/neutral/im20.png       1\n",
              "14541      ./emotion1/train/sad/im1120.png       2\n",
              "12783  ./emotion1/train/neutral/im4172.png       1"
            ]
          },
          "execution_count": 70,
          "metadata": {},
          "output_type": "execute_result"
        }
      ],
      "source": [
        "train_df.tail()"
      ]
    },
    {
      "cell_type": "code",
      "execution_count": 71,
      "metadata": {
        "colab": {
          "base_uri": "https://localhost:8080/",
          "height": 206
        },
        "id": "u0Js20d__taj",
        "outputId": "4fbd682b-267a-40c6-928c-d7c3420dea0f"
      },
      "outputs": [
        {
          "data": {
            "text/html": [
              "\n",
              "  <div id=\"df-b916ede1-fa63-4d05-a9e6-debcddd0476e\">\n",
              "    <div class=\"colab-df-container\">\n",
              "      <div>\n",
              "<style scoped>\n",
              "    .dataframe tbody tr th:only-of-type {\n",
              "        vertical-align: middle;\n",
              "    }\n",
              "\n",
              "    .dataframe tbody tr th {\n",
              "        vertical-align: top;\n",
              "    }\n",
              "\n",
              "    .dataframe thead th {\n",
              "        text-align: right;\n",
              "    }\n",
              "</style>\n",
              "<table border=\"1\" class=\"dataframe\">\n",
              "  <thead>\n",
              "    <tr style=\"text-align: right;\">\n",
              "      <th></th>\n",
              "      <th>image</th>\n",
              "      <th>target</th>\n",
              "    </tr>\n",
              "  </thead>\n",
              "  <tbody>\n",
              "    <tr>\n",
              "      <th>442</th>\n",
              "      <td>./emotion1/train/happy/im7162.png</td>\n",
              "      <td>0</td>\n",
              "    </tr>\n",
              "    <tr>\n",
              "      <th>13586</th>\n",
              "      <td>./emotion1/train/neutral/im4263.png</td>\n",
              "      <td>1</td>\n",
              "    </tr>\n",
              "    <tr>\n",
              "      <th>14250</th>\n",
              "      <td>./emotion1/train/neutral/im488.png</td>\n",
              "      <td>1</td>\n",
              "    </tr>\n",
              "    <tr>\n",
              "      <th>2112</th>\n",
              "      <td>./emotion1/train/neutral/im2096.png</td>\n",
              "      <td>1</td>\n",
              "    </tr>\n",
              "    <tr>\n",
              "      <th>4076</th>\n",
              "      <td>./emotion1/train/happy/im3356.png</td>\n",
              "      <td>0</td>\n",
              "    </tr>\n",
              "  </tbody>\n",
              "</table>\n",
              "</div>\n",
              "      <button class=\"colab-df-convert\" onclick=\"convertToInteractive('df-b916ede1-fa63-4d05-a9e6-debcddd0476e')\"\n",
              "              title=\"Convert this dataframe to an interactive table.\"\n",
              "              style=\"display:none;\">\n",
              "        \n",
              "  <svg xmlns=\"http://www.w3.org/2000/svg\" height=\"24px\"viewBox=\"0 0 24 24\"\n",
              "       width=\"24px\">\n",
              "    <path d=\"M0 0h24v24H0V0z\" fill=\"none\"/>\n",
              "    <path d=\"M18.56 5.44l.94 2.06.94-2.06 2.06-.94-2.06-.94-.94-2.06-.94 2.06-2.06.94zm-11 1L8.5 8.5l.94-2.06 2.06-.94-2.06-.94L8.5 2.5l-.94 2.06-2.06.94zm10 10l.94 2.06.94-2.06 2.06-.94-2.06-.94-.94-2.06-.94 2.06-2.06.94z\"/><path d=\"M17.41 7.96l-1.37-1.37c-.4-.4-.92-.59-1.43-.59-.52 0-1.04.2-1.43.59L10.3 9.45l-7.72 7.72c-.78.78-.78 2.05 0 2.83L4 21.41c.39.39.9.59 1.41.59.51 0 1.02-.2 1.41-.59l7.78-7.78 2.81-2.81c.8-.78.8-2.07 0-2.86zM5.41 20L4 18.59l7.72-7.72 1.47 1.35L5.41 20z\"/>\n",
              "  </svg>\n",
              "      </button>\n",
              "      \n",
              "  <style>\n",
              "    .colab-df-container {\n",
              "      display:flex;\n",
              "      flex-wrap:wrap;\n",
              "      gap: 12px;\n",
              "    }\n",
              "\n",
              "    .colab-df-convert {\n",
              "      background-color: #E8F0FE;\n",
              "      border: none;\n",
              "      border-radius: 50%;\n",
              "      cursor: pointer;\n",
              "      display: none;\n",
              "      fill: #1967D2;\n",
              "      height: 32px;\n",
              "      padding: 0 0 0 0;\n",
              "      width: 32px;\n",
              "    }\n",
              "\n",
              "    .colab-df-convert:hover {\n",
              "      background-color: #E2EBFA;\n",
              "      box-shadow: 0px 1px 2px rgba(60, 64, 67, 0.3), 0px 1px 3px 1px rgba(60, 64, 67, 0.15);\n",
              "      fill: #174EA6;\n",
              "    }\n",
              "\n",
              "    [theme=dark] .colab-df-convert {\n",
              "      background-color: #3B4455;\n",
              "      fill: #D2E3FC;\n",
              "    }\n",
              "\n",
              "    [theme=dark] .colab-df-convert:hover {\n",
              "      background-color: #434B5C;\n",
              "      box-shadow: 0px 1px 3px 1px rgba(0, 0, 0, 0.15);\n",
              "      filter: drop-shadow(0px 1px 2px rgba(0, 0, 0, 0.3));\n",
              "      fill: #FFFFFF;\n",
              "    }\n",
              "  </style>\n",
              "\n",
              "      <script>\n",
              "        const buttonEl =\n",
              "          document.querySelector('#df-b916ede1-fa63-4d05-a9e6-debcddd0476e button.colab-df-convert');\n",
              "        buttonEl.style.display =\n",
              "          google.colab.kernel.accessAllowed ? 'block' : 'none';\n",
              "\n",
              "        async function convertToInteractive(key) {\n",
              "          const element = document.querySelector('#df-b916ede1-fa63-4d05-a9e6-debcddd0476e');\n",
              "          const dataTable =\n",
              "            await google.colab.kernel.invokeFunction('convertToInteractive',\n",
              "                                                     [key], {});\n",
              "          if (!dataTable) return;\n",
              "\n",
              "          const docLinkHtml = 'Like what you see? Visit the ' +\n",
              "            '<a target=\"_blank\" href=https://colab.research.google.com/notebooks/data_table.ipynb>data table notebook</a>'\n",
              "            + ' to learn more about interactive tables.';\n",
              "          element.innerHTML = '';\n",
              "          dataTable['output_type'] = 'display_data';\n",
              "          await google.colab.output.renderOutput(dataTable, element);\n",
              "          const docLink = document.createElement('div');\n",
              "          docLink.innerHTML = docLinkHtml;\n",
              "          element.appendChild(docLink);\n",
              "        }\n",
              "      </script>\n",
              "    </div>\n",
              "  </div>\n",
              "  "
            ],
            "text/plain": [
              "                                     image  target\n",
              "442      ./emotion1/train/happy/im7162.png       0\n",
              "13586  ./emotion1/train/neutral/im4263.png       1\n",
              "14250   ./emotion1/train/neutral/im488.png       1\n",
              "2112   ./emotion1/train/neutral/im2096.png       1\n",
              "4076     ./emotion1/train/happy/im3356.png       0"
            ]
          },
          "execution_count": 71,
          "metadata": {},
          "output_type": "execute_result"
        }
      ],
      "source": [
        "val_df.head()"
      ]
    },
    {
      "cell_type": "code",
      "execution_count": 72,
      "metadata": {
        "colab": {
          "base_uri": "https://localhost:8080/",
          "height": 206
        },
        "id": "b92A8Y5o_v7t",
        "outputId": "9ce1ef68-5f83-4d68-80ab-faacd3b98986"
      },
      "outputs": [
        {
          "data": {
            "text/html": [
              "\n",
              "  <div id=\"df-1ddd0762-c845-40b9-a69e-4ca0aa72478f\">\n",
              "    <div class=\"colab-df-container\">\n",
              "      <div>\n",
              "<style scoped>\n",
              "    .dataframe tbody tr th:only-of-type {\n",
              "        vertical-align: middle;\n",
              "    }\n",
              "\n",
              "    .dataframe tbody tr th {\n",
              "        vertical-align: top;\n",
              "    }\n",
              "\n",
              "    .dataframe thead th {\n",
              "        text-align: right;\n",
              "    }\n",
              "</style>\n",
              "<table border=\"1\" class=\"dataframe\">\n",
              "  <thead>\n",
              "    <tr style=\"text-align: right;\">\n",
              "      <th></th>\n",
              "      <th>image</th>\n",
              "      <th>target</th>\n",
              "    </tr>\n",
              "  </thead>\n",
              "  <tbody>\n",
              "    <tr>\n",
              "      <th>1917</th>\n",
              "      <td>./emotion1/train/neutral/im815.png</td>\n",
              "      <td>1</td>\n",
              "    </tr>\n",
              "    <tr>\n",
              "      <th>10464</th>\n",
              "      <td>./emotion1/train/sad/im1475.png</td>\n",
              "      <td>2</td>\n",
              "    </tr>\n",
              "    <tr>\n",
              "      <th>15962</th>\n",
              "      <td>./emotion1/train/happy/im3091.png</td>\n",
              "      <td>0</td>\n",
              "    </tr>\n",
              "    <tr>\n",
              "      <th>5636</th>\n",
              "      <td>./emotion1/train/happy/im104.png</td>\n",
              "      <td>0</td>\n",
              "    </tr>\n",
              "    <tr>\n",
              "      <th>16161</th>\n",
              "      <td>./emotion1/train/neutral/im4282.png</td>\n",
              "      <td>1</td>\n",
              "    </tr>\n",
              "  </tbody>\n",
              "</table>\n",
              "</div>\n",
              "      <button class=\"colab-df-convert\" onclick=\"convertToInteractive('df-1ddd0762-c845-40b9-a69e-4ca0aa72478f')\"\n",
              "              title=\"Convert this dataframe to an interactive table.\"\n",
              "              style=\"display:none;\">\n",
              "        \n",
              "  <svg xmlns=\"http://www.w3.org/2000/svg\" height=\"24px\"viewBox=\"0 0 24 24\"\n",
              "       width=\"24px\">\n",
              "    <path d=\"M0 0h24v24H0V0z\" fill=\"none\"/>\n",
              "    <path d=\"M18.56 5.44l.94 2.06.94-2.06 2.06-.94-2.06-.94-.94-2.06-.94 2.06-2.06.94zm-11 1L8.5 8.5l.94-2.06 2.06-.94-2.06-.94L8.5 2.5l-.94 2.06-2.06.94zm10 10l.94 2.06.94-2.06 2.06-.94-2.06-.94-.94-2.06-.94 2.06-2.06.94z\"/><path d=\"M17.41 7.96l-1.37-1.37c-.4-.4-.92-.59-1.43-.59-.52 0-1.04.2-1.43.59L10.3 9.45l-7.72 7.72c-.78.78-.78 2.05 0 2.83L4 21.41c.39.39.9.59 1.41.59.51 0 1.02-.2 1.41-.59l7.78-7.78 2.81-2.81c.8-.78.8-2.07 0-2.86zM5.41 20L4 18.59l7.72-7.72 1.47 1.35L5.41 20z\"/>\n",
              "  </svg>\n",
              "      </button>\n",
              "      \n",
              "  <style>\n",
              "    .colab-df-container {\n",
              "      display:flex;\n",
              "      flex-wrap:wrap;\n",
              "      gap: 12px;\n",
              "    }\n",
              "\n",
              "    .colab-df-convert {\n",
              "      background-color: #E8F0FE;\n",
              "      border: none;\n",
              "      border-radius: 50%;\n",
              "      cursor: pointer;\n",
              "      display: none;\n",
              "      fill: #1967D2;\n",
              "      height: 32px;\n",
              "      padding: 0 0 0 0;\n",
              "      width: 32px;\n",
              "    }\n",
              "\n",
              "    .colab-df-convert:hover {\n",
              "      background-color: #E2EBFA;\n",
              "      box-shadow: 0px 1px 2px rgba(60, 64, 67, 0.3), 0px 1px 3px 1px rgba(60, 64, 67, 0.15);\n",
              "      fill: #174EA6;\n",
              "    }\n",
              "\n",
              "    [theme=dark] .colab-df-convert {\n",
              "      background-color: #3B4455;\n",
              "      fill: #D2E3FC;\n",
              "    }\n",
              "\n",
              "    [theme=dark] .colab-df-convert:hover {\n",
              "      background-color: #434B5C;\n",
              "      box-shadow: 0px 1px 3px 1px rgba(0, 0, 0, 0.15);\n",
              "      filter: drop-shadow(0px 1px 2px rgba(0, 0, 0, 0.3));\n",
              "      fill: #FFFFFF;\n",
              "    }\n",
              "  </style>\n",
              "\n",
              "      <script>\n",
              "        const buttonEl =\n",
              "          document.querySelector('#df-1ddd0762-c845-40b9-a69e-4ca0aa72478f button.colab-df-convert');\n",
              "        buttonEl.style.display =\n",
              "          google.colab.kernel.accessAllowed ? 'block' : 'none';\n",
              "\n",
              "        async function convertToInteractive(key) {\n",
              "          const element = document.querySelector('#df-1ddd0762-c845-40b9-a69e-4ca0aa72478f');\n",
              "          const dataTable =\n",
              "            await google.colab.kernel.invokeFunction('convertToInteractive',\n",
              "                                                     [key], {});\n",
              "          if (!dataTable) return;\n",
              "\n",
              "          const docLinkHtml = 'Like what you see? Visit the ' +\n",
              "            '<a target=\"_blank\" href=https://colab.research.google.com/notebooks/data_table.ipynb>data table notebook</a>'\n",
              "            + ' to learn more about interactive tables.';\n",
              "          element.innerHTML = '';\n",
              "          dataTable['output_type'] = 'display_data';\n",
              "          await google.colab.output.renderOutput(dataTable, element);\n",
              "          const docLink = document.createElement('div');\n",
              "          docLink.innerHTML = docLinkHtml;\n",
              "          element.appendChild(docLink);\n",
              "        }\n",
              "      </script>\n",
              "    </div>\n",
              "  </div>\n",
              "  "
            ],
            "text/plain": [
              "                                     image  target\n",
              "1917    ./emotion1/train/neutral/im815.png       1\n",
              "10464      ./emotion1/train/sad/im1475.png       2\n",
              "15962    ./emotion1/train/happy/im3091.png       0\n",
              "5636      ./emotion1/train/happy/im104.png       0\n",
              "16161  ./emotion1/train/neutral/im4282.png       1"
            ]
          },
          "execution_count": 72,
          "metadata": {},
          "output_type": "execute_result"
        }
      ],
      "source": [
        "test_df.head()"
      ]
    },
    {
      "cell_type": "markdown",
      "metadata": {
        "id": "mcMA-EKW_yN7"
      },
      "source": [
        "#EDA"
      ]
    },
    {
      "cell_type": "code",
      "execution_count": 73,
      "metadata": {
        "colab": {
          "base_uri": "https://localhost:8080/"
        },
        "id": "2CY26Dbh_0Wo",
        "outputId": "d4544b8f-ef54-44b0-fac9-3f41cd62e24d"
      },
      "outputs": [
        {
          "name": "stdout",
          "output_type": "stream",
          "text": [
            "['happy', 'neutral', 'sad']\n"
          ]
        }
      ],
      "source": [
        "print(list_category)"
      ]
    },
    {
      "cell_type": "markdown",
      "metadata": {
        "id": "mLf-nFB2C2lv"
      },
      "source": [
        "#Arrange"
      ]
    },
    {
      "cell_type": "code",
      "execution_count": 74,
      "metadata": {
        "colab": {
          "base_uri": "https://localhost:8080/"
        },
        "id": "XZA2a1DxC67u",
        "outputId": "12fbc936-738f-4cab-b494-5c15abee52b6"
      },
      "outputs": [
        {
          "name": "stdout",
          "output_type": "stream",
          "text": [
            "happy  :  7215 images\n",
            "neutral  :  4965 images\n",
            "sad  :  4830 images\n"
          ]
        }
      ],
      "source": [
        "# check a lot of data for paper, rock and scissors\n",
        "for  item in list_category:\n",
        "  class_dir = os.path.join(dir,item)\n",
        "  print(item ,\" : \",len(os.listdir(class_dir)),\"images\")"
      ]
    },
    {
      "cell_type": "code",
      "execution_count": 75,
      "metadata": {
        "colab": {
          "base_uri": "https://localhost:8080/"
        },
        "id": "exoepyAODZw0",
        "outputId": "2fa6732c-6c2e-4f80-a313-6cbac7f4a20d"
      },
      "outputs": [
        {
          "name": "stdout",
          "output_type": "stream",
          "text": [
            "happy: 7215\n",
            "+ size =  (48, 48)\n",
            "neutral: 4965\n",
            "+ size =  (48, 48)\n",
            "sad: 4830\n",
            "+ size =  (48, 48)\n",
            "\n",
            "Total : 17010\n"
          ]
        }
      ],
      "source": [
        "# check image (count, size, total)\n",
        "from PIL import Image\n",
        "total = 0\n",
        "\n",
        "for x in list_category:\n",
        "  dir_cat = os.path.join(dir, x)\n",
        "  y = len(os.listdir(dir_cat))\n",
        "  print(x+':', y)\n",
        "  total = total + y\n",
        "  \n",
        "  size = (0,0)\n",
        "  img_name = os.listdir(dir_cat)\n",
        "  for i in range(5):\n",
        "    img_path = os.path.join(dir_cat, img_name[i])\n",
        "    img = Image.open(img_path)\n",
        "    \n",
        "    if size == img.size:\n",
        "      continue\n",
        "    else :\n",
        "      size = img.size\n",
        "      print('+ size = ',img.size)\n",
        "\n",
        "print('\\nTotal :', total)"
      ]
    },
    {
      "cell_type": "code",
      "execution_count": 76,
      "metadata": {
        "colab": {
          "base_uri": "https://localhost:8080/",
          "height": 744
        },
        "id": "57iHW7r1DbY0",
        "outputId": "332022dd-8944-4f14-cc9b-2508166b0fb2"
      },
      "outputs": [
        {
          "name": "stdout",
          "output_type": "stream",
          "text": [
            "happy\n"
          ]
        },
        {
          "data": {
            "image/png": "[encoded data removed]",
            "text/plain": [
              "<Figure size 1440x288 with 3 Axes>"
            ]
          },
          "metadata": {},
          "output_type": "display_data"
        },
        {
          "name": "stdout",
          "output_type": "stream",
          "text": [
            "neutral\n"
          ]
        },
        {
          "data": {
            "image/png": "[encoded data removed]",
            "text/plain": [
              "<Figure size 1440x288 with 3 Axes>"
            ]
          },
          "metadata": {},
          "output_type": "display_data"
        },
        {
          "name": "stdout",
          "output_type": "stream",
          "text": [
            "sad\n"
          ]
        },
        {
          "data": {
            "image/png": "[encoded data removed]",
            "text/plain": [
              "<Figure size 1440x288 with 3 Axes>"
            ]
          },
          "metadata": {},
          "output_type": "display_data"
        }
      ],
      "source": [
        "import matplotlib.image as mpimg\n",
        "\n",
        "# check images class\n",
        "for  item in list_category:\n",
        "  print(item)\n",
        "  class_dir = os.path.join(dir,item)\n",
        "  class_images = os.listdir(class_dir)\n",
        "  plt.figure(figsize=(20, 4))\n",
        "  for i, img_path in enumerate(class_images[:3]):\n",
        "    sp = plt.subplot(1, 5, i+1)\n",
        "    img = mpimg.imread(os.path.join(class_dir, img_path))\n",
        "    plt.imshow(img)\n",
        "  plt.show()"
      ]
    },
    {
      "cell_type": "markdown",
      "metadata": {
        "id": "2-MAZETeDxQ2"
      },
      "source": [
        "#Preprocessing"
      ]
    },
    {
      "cell_type": "code",
      "execution_count": 77,
      "metadata": {
        "id": "8KL2Ik2jD7hk"
      },
      "outputs": [],
      "source": [
        "dim = 48\n",
        "\n",
        "def decode_image(filename, label=None, image_size=(dim, dim)):\n",
        "    \"\"\"\n",
        "    Decode, normalize, and resize the image\n",
        "\n",
        "    Parameters\n",
        "    ----------\n",
        "    filename: str\n",
        "        The image file's name\n",
        "    label: int, optional\n",
        "        The image's label (default is None)\n",
        "    image_size: tuple of int, optional\n",
        "        The image's size. (default is (256, 256))\n",
        "\n",
        "    Returns\n",
        "    -------\n",
        "    image:\n",
        "        Decoded image\n",
        "    label: optional\n",
        "        One-hot encoded label\n",
        "    \"\"\"\n",
        "\n",
        "    bits = tf.io.read_file(filename)\n",
        "    image = tf.image.decode_jpeg(bits, channels=3)\n",
        "    image = tf.cast(image, tf.float32)  # Convert to float32\n",
        "    image /= 255.0  # Normalize\n",
        "    image = tf.image.resize(image, image_size)  #Resize\n",
        "    \n",
        "    if label == None:\n",
        "        return image\n",
        "    else:\n",
        "        return image, tf.one_hot(label, depth=len(list_category))\n"
      ]
    },
    {
      "cell_type": "code",
      "execution_count": 78,
      "metadata": {
        "id": "yMzDMeRaD2r1"
      },
      "outputs": [],
      "source": [
        "AUTO = tf.data.experimental.AUTOTUNE\n",
        "batch_size = 128"
      ]
    },
    {
      "cell_type": "code",
      "execution_count": 79,
      "metadata": {
        "id": "gVQ-WaqTD1kj"
      },
      "outputs": [],
      "source": [
        "train_dataset = (\n",
        "    tf.data.Dataset\n",
        "    .from_tensor_slices((train_df['image'], train_df['target']))\n",
        "    .map(decode_image, num_parallel_calls=AUTO)\n",
        "    # .map(image_augment, num_parallel_calls=AUTO)\n",
        "    .repeat()\n",
        "    .shuffle(512)\n",
        "    .batch(batch_size)\n",
        "    .prefetch(AUTO)\n",
        ")\n",
        "\n",
        "val_dataset = (\n",
        "    tf.data.Dataset\n",
        "    .from_tensor_slices((val_df['image'], val_df['target']))\n",
        "    .map(decode_image, num_parallel_calls=AUTO)\n",
        "    .batch(batch_size)\n",
        "    .cache()\n",
        "    .prefetch(AUTO)\n",
        ")\n",
        "\n",
        "test_dataset = (\n",
        "    tf.data.Dataset\n",
        "    .from_tensor_slices((test_df['image'], test_df['target']))\n",
        "    .map(decode_image, num_parallel_calls=AUTO)\n",
        "    .batch(batch_size)\n",
        "    .cache()\n",
        "    .prefetch(AUTO)\n",
        ")"
      ]
    },
    {
      "cell_type": "code",
      "execution_count": 80,
      "metadata": {
        "colab": {
          "base_uri": "https://localhost:8080/"
        },
        "id": "VCoqUZLXDybD",
        "outputId": "8526b068-e930-4467-ec89-5b64fec2c612"
      },
      "outputs": [
        {
          "name": "stdout",
          "output_type": "stream",
          "text": [
            "Image shape: (128, 48, 48, 3)\n",
            "Label shape: (128, 3)\n"
          ]
        }
      ],
      "source": [
        "for img, label in train_dataset.take(1):\n",
        "    print(\"Image shape: {}\".format(img.numpy().shape))\n",
        "    print(\"Label shape: {}\".format(label.numpy().shape))"
      ]
    },
    {
      "cell_type": "code",
      "execution_count": 81,
      "metadata": {
        "colab": {
          "base_uri": "https://localhost:8080/"
        },
        "id": "5UNvvxx8DIRm",
        "outputId": "761f79b1-66c6-4a13-e4a5-e560a8ac2de0"
      },
      "outputs": [
        {
          "name": "stdout",
          "output_type": "stream",
          "text": [
            "Image shape: (128, 48, 48, 3)\n",
            "Label shape: (128, 3)\n"
          ]
        }
      ],
      "source": [
        "for img, label in val_dataset.take(1):\n",
        "    print(\"Image shape: {}\".format(img.numpy().shape))\n",
        "    print(\"Label shape: {}\".format(label.numpy().shape))"
      ]
    },
    {
      "cell_type": "code",
      "execution_count": 82,
      "metadata": {
        "colab": {
          "base_uri": "https://localhost:8080/"
        },
        "id": "fB0g5X-lDJ8l",
        "outputId": "24a6556f-1e56-4a53-c1fb-45c3ae35e5b7"
      },
      "outputs": [
        {
          "name": "stdout",
          "output_type": "stream",
          "text": [
            "Image shape: (128, 48, 48, 3)\n",
            "Label shape: (128, 3)\n"
          ]
        }
      ],
      "source": [
        "for img, label in test_dataset.take(1):\n",
        "    print(\"Image shape: {}\".format(img.numpy().shape))\n",
        "    print(\"Label shape: {}\".format(label.numpy().shape))"
      ]
    },
    {
      "cell_type": "code",
      "execution_count": 83,
      "metadata": {
        "id": "hhI1j_V8EPSd"
      },
      "outputs": [],
      "source": [
        "def plot_dataset(dataset, rows, cols):\n",
        "    \"\"\"\n",
        "    Plot dataset\n",
        "\n",
        "    Parameters\n",
        "    ----------\n",
        "    dataset: tf.data.Dataset\n",
        "        Dataset that has been processed\n",
        "    rows: int\n",
        "        Number of rows in plot\n",
        "    cols: int \n",
        "        Number of columns in plot\n",
        "    \"\"\"\n",
        "    for img, label in train_dataset.take(1):\n",
        "        for i in range(rows*cols):\n",
        "            ax = plt.subplot(rows, cols, i+1)\n",
        "            plt.imshow(img[i].numpy())\n",
        "\n",
        "            # Set the title's color\n",
        "            if list_category[np.argmax(label[i].numpy())] == 'happy':\n",
        "                color = 'green'\n",
        "            elif list_category[np.argmax(label[i].numpy())] == 'neutral':\n",
        "                color = 'orange'\n",
        "            elif list_category[np.argmax(label[i].numpy())] == 'sad':\n",
        "                color = 'red'\n",
        "\n",
        "\n",
        "            plt.title(list_category[np.argmax(label[i].numpy())], color=color)\n",
        "            plt.axis('off')\n",
        "            plt.grid(False)\n",
        "\n",
        "        plt.show()"
      ]
    },
    {
      "cell_type": "code",
      "execution_count": 84,
      "metadata": {
        "colab": {
          "base_uri": "https://localhost:8080/",
          "height": 345
        },
        "id": "-nCU6msXEJvJ",
        "outputId": "5edfea0c-72c9-4c2a-813c-ad64c5225280"
      },
      "outputs": [
        {
          "data": {
            "image/png": "[encoded data removed]",
            "text/plain": [
              "<Figure size 576x396 with 9 Axes>"
            ]
          },
          "metadata": {},
          "output_type": "display_data"
        }
      ],
      "source": [
        "plot_dataset(list_category, 3, 3)"
      ]
    },
    {
      "cell_type": "code",
      "execution_count": 85,
      "metadata": {
        "colab": {
          "base_uri": "https://localhost:8080/"
        },
        "id": "gmpy0MhEDw5T",
        "outputId": "a175465f-e3b3-4c8e-d4c9-a55cbd83db6e"
      },
      "outputs": [
        {
          "data": {
            "text/plain": [
              "['happy', 'neutral', 'sad']"
            ]
          },
          "execution_count": 85,
          "metadata": {},
          "output_type": "execute_result"
        }
      ],
      "source": [
        "label_types = []\n",
        "for i in list_category:\n",
        "  label_types.append(i)\n",
        "label_types"
      ]
    },
    {
      "cell_type": "code",
      "execution_count": 86,
      "metadata": {
        "id": "N0WxNzbnIxH9"
      },
      "outputs": [],
      "source": [
        "model = tf.keras.models.Sequential([\n",
        "    # Note the input shape is the desired size of the image 150x150 with 3 bytes color\n",
        "    tf.keras.layers.Conv2D(16, (3,3), activation='relu', input_shape=(48, 48, 3)),\n",
        "    tf.keras.layers.Dropout(0.2), \n",
        "    tf.keras.layers.MaxPooling2D(2,2),\n",
        "    tf.keras.layers.Conv2D(32, (3,3), activation='relu'),\n",
        "    tf.keras.layers.MaxPooling2D(2,2), \n",
        "    tf.keras.layers.Conv2D(64, (3,3), activation='relu'), \n",
        "    tf.keras.layers.MaxPooling2D(2,2),\n",
        "    tf.keras.layers.Conv2D(64, (3,3), activation='relu'), \n",
        "    tf.keras.layers.MaxPooling2D(2,2),\n",
        "    # Flatten the results to feed into a DNN\n",
        "    tf.keras.layers.Flatten(), \n",
        "    # 512 neuron hidden layer\n",
        "    tf.keras.layers.Dense(512, activation='relu'),\n",
        "    tf.keras.layers.Dropout(0.2), \n",
        "    tf.keras.layers.Dense(3, activation='softmax')  \n",
        "])\n",
        "\n"
      ]
    },
    {
      "cell_type": "code",
      "execution_count": 87,
      "metadata": {
        "colab": {
          "base_uri": "https://localhost:8080/"
        },
        "id": "UxnygU0xI0RL",
        "outputId": "3c5ac1dc-24b7-4b42-84df-7ab6e9868abd"
      },
      "outputs": [
        {
          "name": "stdout",
          "output_type": "stream",
          "text": [
            "Model: \"sequential_1\"\n",
            "_________________________________________________________________\n",
            " Layer (type)                Output Shape              Param #   \n",
            "=================================================================\n",
            " conv2d_4 (Conv2D)           (None, 46, 46, 16)        448       \n",
            "                                                                 \n",
            " dropout_2 (Dropout)         (None, 46, 46, 16)        0         \n",
            "                                                                 \n",
            " max_pooling2d_4 (MaxPooling  (None, 23, 23, 16)       0         \n",
            " 2D)                                                             \n",
            "                                                                 \n",
            " conv2d_5 (Conv2D)           (None, 21, 21, 32)        4640      \n",
            "                                                                 \n",
            " max_pooling2d_5 (MaxPooling  (None, 10, 10, 32)       0         \n",
            " 2D)                                                             \n",
            "                                                                 \n",
            " conv2d_6 (Conv2D)           (None, 8, 8, 64)          18496     \n",
            "                                                                 \n",
            " max_pooling2d_6 (MaxPooling  (None, 4, 4, 64)         0         \n",
            " 2D)                                                             \n",
            "                                                                 \n",
            " conv2d_7 (Conv2D)           (None, 2, 2, 64)          36928     \n",
            "                                                                 \n",
            " max_pooling2d_7 (MaxPooling  (None, 1, 1, 64)         0         \n",
            " 2D)                                                             \n",
            "                                                                 \n",
            " flatten_1 (Flatten)         (None, 64)                0         \n",
            "                                                                 \n",
            " dense_2 (Dense)             (None, 512)               33280     \n",
            "                                                                 \n",
            " dropout_3 (Dropout)         (None, 512)               0         \n",
            "                                                                 \n",
            " dense_3 (Dense)             (None, 3)                 1539      \n",
            "                                                                 \n",
            "=================================================================\n",
            "Total params: 95,331\n",
            "Trainable params: 95,331\n",
            "Non-trainable params: 0\n",
            "_________________________________________________________________\n"
          ]
        }
      ],
      "source": [
        "model.summary()"
      ]
    },
    {
      "cell_type": "code",
      "execution_count": null,
      "metadata": {
        "colab": {
          "base_uri": "https://localhost:8080/"
        },
        "id": "YCzDCid7I09f",
        "outputId": "131abd46-0ec4-41b6-ad06-580758c6613a"
      },
      "outputs": [],
      "source": [
        "do_fine_tuning = False \n",
        "\n",
        "if do_fine_tuning:\n",
        "    optimizer = tf.keras.optimizers.SGD(lr=0.001, momentum=0.9)\n",
        "else:\n",
        "    optimizer = tf.keras.optimizers.SGD(lr=0.001, momentum=0.9)\n",
        "\n",
        "model.compile(loss = 'categorical_crossentropy',\n",
        "              optimizer = optimizer,\n",
        "              metrics=['accuracy'])"
      ]
    },
    {
      "cell_type": "markdown",
      "metadata": {
        "id": "WDGCEqXiWJEp"
      },
      "source": [
        "Fitting Model"
      ]
    },
    {
      "cell_type": "code",
      "execution_count": 89,
      "metadata": {
        "colab": {
          "base_uri": "https://localhost:8080/"
        },
        "id": "nAbsdyclJHVa",
        "outputId": "82e04f60-176f-4677-e2d9-e0739803aed4"
      },
      "outputs": [
        {
          "name": "stdout",
          "output_type": "stream",
          "text": [
            "Epoch 1/200\n",
            "79/79 [==============================] - 10s 116ms/step - loss: 1.0873 - accuracy: 0.4249 - val_loss: 1.0818 - val_accuracy: 0.4269\n",
            "Epoch 2/200\n",
            "79/79 [==============================] - 9s 109ms/step - loss: 1.0808 - accuracy: 0.4236 - val_loss: 1.0793 - val_accuracy: 0.4269\n",
            "Epoch 3/200\n",
            "79/79 [==============================] - 8s 105ms/step - loss: 1.0792 - accuracy: 0.4254 - val_loss: 1.0788 - val_accuracy: 0.4269\n",
            "Epoch 4/200\n",
            "79/79 [==============================] - 8s 100ms/step - loss: 1.0797 - accuracy: 0.4232 - val_loss: 1.0786 - val_accuracy: 0.4269\n",
            "Epoch 5/200\n",
            "79/79 [==============================] - 5s 61ms/step - loss: 1.0796 - accuracy: 0.4233 - val_loss: 1.0785 - val_accuracy: 0.4269\n",
            "Epoch 6/200\n",
            "79/79 [==============================] - 5s 60ms/step - loss: 1.0794 - accuracy: 0.4234 - val_loss: 1.0783 - val_accuracy: 0.4269\n",
            "Epoch 7/200\n",
            "79/79 [==============================] - 4s 51ms/step - loss: 1.0783 - accuracy: 0.4255 - val_loss: 1.0782 - val_accuracy: 0.4269\n",
            "Epoch 8/200\n",
            "79/79 [==============================] - 4s 50ms/step - loss: 1.0791 - accuracy: 0.4229 - val_loss: 1.0780 - val_accuracy: 0.4269\n",
            "Epoch 9/200\n",
            "79/79 [==============================] - 4s 53ms/step - loss: 1.0783 - accuracy: 0.4256 - val_loss: 1.0780 - val_accuracy: 0.4269\n",
            "Epoch 10/200\n",
            "79/79 [==============================] - 4s 55ms/step - loss: 1.0778 - accuracy: 0.4260 - val_loss: 1.0778 - val_accuracy: 0.4269\n",
            "Epoch 11/200\n",
            "79/79 [==============================] - 4s 53ms/step - loss: 1.0789 - accuracy: 0.4229 - val_loss: 1.0778 - val_accuracy: 0.4269\n",
            "Epoch 12/200\n",
            "79/79 [==============================] - 4s 52ms/step - loss: 1.0787 - accuracy: 0.4238 - val_loss: 1.0776 - val_accuracy: 0.4269\n",
            "Epoch 13/200\n",
            "79/79 [==============================] - 4s 54ms/step - loss: 1.0775 - accuracy: 0.4243 - val_loss: 1.0775 - val_accuracy: 0.4269\n",
            "Epoch 14/200\n",
            "79/79 [==============================] - 4s 54ms/step - loss: 1.0784 - accuracy: 0.4236 - val_loss: 1.0772 - val_accuracy: 0.4269\n",
            "Epoch 15/200\n",
            "79/79 [==============================] - 4s 53ms/step - loss: 1.0776 - accuracy: 0.4246 - val_loss: 1.0772 - val_accuracy: 0.4269\n",
            "Epoch 16/200\n",
            "79/79 [==============================] - 4s 52ms/step - loss: 1.0780 - accuracy: 0.4232 - val_loss: 1.0770 - val_accuracy: 0.4269\n",
            "Epoch 17/200\n",
            "79/79 [==============================] - 4s 53ms/step - loss: 1.0760 - accuracy: 0.4260 - val_loss: 1.0768 - val_accuracy: 0.4269\n",
            "Epoch 18/200\n",
            "79/79 [==============================] - 4s 51ms/step - loss: 1.0774 - accuracy: 0.4230 - val_loss: 1.0767 - val_accuracy: 0.4269\n",
            "Epoch 19/200\n",
            "79/79 [==============================] - 4s 53ms/step - loss: 1.0764 - accuracy: 0.4243 - val_loss: 1.0763 - val_accuracy: 0.4269\n",
            "Epoch 20/200\n",
            "79/79 [==============================] - 4s 57ms/step - loss: 1.0756 - accuracy: 0.4242 - val_loss: 1.0760 - val_accuracy: 0.4269\n",
            "Epoch 21/200\n",
            "79/79 [==============================] - 4s 52ms/step - loss: 1.0760 - accuracy: 0.4236 - val_loss: 1.0758 - val_accuracy: 0.4269\n",
            "Epoch 22/200\n",
            "79/79 [==============================] - 4s 53ms/step - loss: 1.0759 - accuracy: 0.4235 - val_loss: 1.0758 - val_accuracy: 0.4269\n",
            "Epoch 23/200\n",
            "79/79 [==============================] - 4s 54ms/step - loss: 1.0748 - accuracy: 0.4253 - val_loss: 1.0753 - val_accuracy: 0.4269\n",
            "Epoch 24/200\n",
            "79/79 [==============================] - 7s 95ms/step - loss: 1.0753 - accuracy: 0.4240 - val_loss: 1.0748 - val_accuracy: 0.4269\n",
            "Epoch 25/200\n",
            "79/79 [==============================] - 4s 53ms/step - loss: 1.0742 - accuracy: 0.4238 - val_loss: 1.0745 - val_accuracy: 0.4270\n",
            "Epoch 26/200\n",
            "79/79 [==============================] - 4s 53ms/step - loss: 1.0745 - accuracy: 0.4241 - val_loss: 1.0738 - val_accuracy: 0.4270\n",
            "Epoch 27/200\n",
            "79/79 [==============================] - 4s 53ms/step - loss: 1.0734 - accuracy: 0.4233 - val_loss: 1.0738 - val_accuracy: 0.4270\n",
            "Epoch 28/200\n",
            "79/79 [==============================] - 4s 54ms/step - loss: 1.0717 - accuracy: 0.4254 - val_loss: 1.0728 - val_accuracy: 0.4270\n",
            "Epoch 29/200\n",
            "79/79 [==============================] - 4s 54ms/step - loss: 1.0732 - accuracy: 0.4227 - val_loss: 1.0729 - val_accuracy: 0.4280\n",
            "Epoch 30/200\n",
            "79/79 [==============================] - 4s 53ms/step - loss: 1.0707 - accuracy: 0.4251 - val_loss: 1.0714 - val_accuracy: 0.4282\n",
            "Epoch 31/200\n",
            "79/79 [==============================] - 4s 53ms/step - loss: 1.0710 - accuracy: 0.4235 - val_loss: 1.0720 - val_accuracy: 0.4304\n",
            "Epoch 32/200\n",
            "79/79 [==============================] - 4s 54ms/step - loss: 1.0700 - accuracy: 0.4238 - val_loss: 1.0720 - val_accuracy: 0.4312\n",
            "Epoch 33/200\n",
            "79/79 [==============================] - 4s 53ms/step - loss: 1.0698 - accuracy: 0.4283 - val_loss: 1.0694 - val_accuracy: 0.4304\n",
            "Epoch 34/200\n",
            "79/79 [==============================] - 4s 54ms/step - loss: 1.0669 - accuracy: 0.4276 - val_loss: 1.0682 - val_accuracy: 0.4328\n",
            "Epoch 35/200\n",
            "79/79 [==============================] - 4s 52ms/step - loss: 1.0667 - accuracy: 0.4272 - val_loss: 1.0666 - val_accuracy: 0.4342\n",
            "Epoch 36/200\n",
            "79/79 [==============================] - 4s 55ms/step - loss: 1.0644 - accuracy: 0.4326 - val_loss: 1.0663 - val_accuracy: 0.4370\n",
            "Epoch 37/200\n",
            "79/79 [==============================] - 4s 52ms/step - loss: 1.0631 - accuracy: 0.4368 - val_loss: 1.0655 - val_accuracy: 0.4417\n",
            "Epoch 38/200\n",
            "79/79 [==============================] - 5s 64ms/step - loss: 1.0604 - accuracy: 0.4372 - val_loss: 1.0624 - val_accuracy: 0.4403\n",
            "Epoch 39/200\n",
            "79/79 [==============================] - 4s 52ms/step - loss: 1.0606 - accuracy: 0.4430 - val_loss: 1.0599 - val_accuracy: 0.4405\n",
            "Epoch 40/200\n",
            "79/79 [==============================] - 4s 55ms/step - loss: 1.0590 - accuracy: 0.4395 - val_loss: 1.0596 - val_accuracy: 0.4471\n",
            "Epoch 41/200\n",
            "79/79 [==============================] - 4s 57ms/step - loss: 1.0549 - accuracy: 0.4460 - val_loss: 1.0562 - val_accuracy: 0.4458\n",
            "Epoch 42/200\n",
            "79/79 [==============================] - 4s 53ms/step - loss: 1.0540 - accuracy: 0.4486 - val_loss: 1.0550 - val_accuracy: 0.4503\n",
            "Epoch 43/200\n",
            "79/79 [==============================] - 4s 56ms/step - loss: 1.0525 - accuracy: 0.4467 - val_loss: 1.0531 - val_accuracy: 0.4456\n",
            "Epoch 44/200\n",
            "79/79 [==============================] - 4s 55ms/step - loss: 1.0500 - accuracy: 0.4486 - val_loss: 1.0513 - val_accuracy: 0.4558\n",
            "Epoch 45/200\n",
            "79/79 [==============================] - 4s 56ms/step - loss: 1.0471 - accuracy: 0.4573 - val_loss: 1.0490 - val_accuracy: 0.4538\n",
            "Epoch 46/200\n",
            "79/79 [==============================] - 4s 53ms/step - loss: 1.0444 - accuracy: 0.4559 - val_loss: 1.0445 - val_accuracy: 0.4546\n",
            "Epoch 47/200\n",
            "79/79 [==============================] - 4s 55ms/step - loss: 1.0440 - accuracy: 0.4579 - val_loss: 1.0417 - val_accuracy: 0.4538\n",
            "Epoch 48/200\n",
            "79/79 [==============================] - 4s 54ms/step - loss: 1.0355 - accuracy: 0.4637 - val_loss: 1.0367 - val_accuracy: 0.4621\n",
            "Epoch 49/200\n",
            "79/79 [==============================] - 4s 56ms/step - loss: 1.0321 - accuracy: 0.4784 - val_loss: 1.0333 - val_accuracy: 0.4641\n",
            "Epoch 50/200\n",
            "79/79 [==============================] - 4s 55ms/step - loss: 1.0252 - accuracy: 0.4733 - val_loss: 1.0343 - val_accuracy: 0.4553\n",
            "Epoch 51/200\n",
            "79/79 [==============================] - 4s 56ms/step - loss: 1.0200 - accuracy: 0.4883 - val_loss: 1.0229 - val_accuracy: 0.4684\n",
            "Epoch 52/200\n",
            "79/79 [==============================] - 4s 55ms/step - loss: 1.0150 - accuracy: 0.4865 - val_loss: 1.0170 - val_accuracy: 0.5090\n",
            "Epoch 53/200\n",
            "79/79 [==============================] - 4s 52ms/step - loss: 1.0137 - accuracy: 0.4921 - val_loss: 1.0175 - val_accuracy: 0.4762\n",
            "Epoch 54/200\n",
            "79/79 [==============================] - 4s 55ms/step - loss: 0.9971 - accuracy: 0.5053 - val_loss: 1.0000 - val_accuracy: 0.4955\n",
            "Epoch 55/200\n",
            "79/79 [==============================] - 4s 53ms/step - loss: 0.9955 - accuracy: 0.5076 - val_loss: 1.0011 - val_accuracy: 0.4825\n",
            "Epoch 56/200\n",
            "79/79 [==============================] - 4s 55ms/step - loss: 0.9765 - accuracy: 0.5285 - val_loss: 0.9910 - val_accuracy: 0.5409\n",
            "Epoch 57/200\n",
            "79/79 [==============================] - 4s 55ms/step - loss: 0.9707 - accuracy: 0.5344 - val_loss: 0.9766 - val_accuracy: 0.5216\n",
            "Epoch 58/200\n",
            "79/79 [==============================] - 4s 55ms/step - loss: 0.9631 - accuracy: 0.5364 - val_loss: 0.9685 - val_accuracy: 0.5534\n",
            "Epoch 59/200\n",
            "79/79 [==============================] - 4s 52ms/step - loss: 0.9608 - accuracy: 0.5373 - val_loss: 0.9637 - val_accuracy: 0.5542\n",
            "Epoch 60/200\n",
            "79/79 [==============================] - 4s 54ms/step - loss: 0.9665 - accuracy: 0.5293 - val_loss: 0.9594 - val_accuracy: 0.5517\n",
            "Epoch 61/200\n",
            "79/79 [==============================] - 4s 54ms/step - loss: 0.9470 - accuracy: 0.5472 - val_loss: 0.9585 - val_accuracy: 0.5519\n",
            "Epoch 62/200\n",
            "79/79 [==============================] - 4s 54ms/step - loss: 0.9466 - accuracy: 0.5470 - val_loss: 0.9470 - val_accuracy: 0.5575\n",
            "Epoch 63/200\n",
            "79/79 [==============================] - 4s 53ms/step - loss: 0.9318 - accuracy: 0.5610 - val_loss: 0.9392 - val_accuracy: 0.5632\n",
            "Epoch 64/200\n",
            "79/79 [==============================] - 4s 54ms/step - loss: 0.9276 - accuracy: 0.5601 - val_loss: 0.9437 - val_accuracy: 0.5655\n",
            "Epoch 65/200\n",
            "79/79 [==============================] - 4s 55ms/step - loss: 0.9178 - accuracy: 0.5682 - val_loss: 0.9281 - val_accuracy: 0.5718\n",
            "Epoch 66/200\n",
            "79/79 [==============================] - 4s 56ms/step - loss: 0.9139 - accuracy: 0.5713 - val_loss: 0.9275 - val_accuracy: 0.5720\n",
            "Epoch 67/200\n",
            "79/79 [==============================] - 4s 55ms/step - loss: 0.9110 - accuracy: 0.5736 - val_loss: 0.9190 - val_accuracy: 0.5770\n",
            "Epoch 68/200\n",
            "79/79 [==============================] - 4s 57ms/step - loss: 0.9087 - accuracy: 0.5709 - val_loss: 0.9157 - val_accuracy: 0.5726\n",
            "Epoch 69/200\n",
            "79/79 [==============================] - 4s 56ms/step - loss: 0.9033 - accuracy: 0.5765 - val_loss: 0.9258 - val_accuracy: 0.5500\n",
            "Epoch 70/200\n",
            "79/79 [==============================] - 4s 57ms/step - loss: 0.9030 - accuracy: 0.5779 - val_loss: 0.9158 - val_accuracy: 0.5642\n",
            "Epoch 71/200\n",
            "79/79 [==============================] - 4s 54ms/step - loss: 0.8901 - accuracy: 0.5836 - val_loss: 0.9058 - val_accuracy: 0.5848\n",
            "Epoch 72/200\n",
            "79/79 [==============================] - 4s 52ms/step - loss: 0.8888 - accuracy: 0.5839 - val_loss: 0.9010 - val_accuracy: 0.5790\n",
            "Epoch 73/200\n",
            "79/79 [==============================] - 4s 57ms/step - loss: 0.8868 - accuracy: 0.5884 - val_loss: 0.8992 - val_accuracy: 0.5891\n",
            "Epoch 74/200\n",
            "79/79 [==============================] - 4s 57ms/step - loss: 0.8864 - accuracy: 0.5824 - val_loss: 0.9047 - val_accuracy: 0.5760\n",
            "Epoch 75/200\n",
            "79/79 [==============================] - 4s 53ms/step - loss: 0.8734 - accuracy: 0.5924 - val_loss: 0.9027 - val_accuracy: 0.5914\n",
            "Epoch 76/200\n",
            "79/79 [==============================] - 4s 55ms/step - loss: 0.8752 - accuracy: 0.5935 - val_loss: 0.8927 - val_accuracy: 0.5984\n",
            "Epoch 77/200\n",
            "79/79 [==============================] - 4s 55ms/step - loss: 0.8685 - accuracy: 0.5976 - val_loss: 0.8823 - val_accuracy: 0.5976\n",
            "Epoch 78/200\n",
            "79/79 [==============================] - 4s 54ms/step - loss: 0.8645 - accuracy: 0.6018 - val_loss: 0.9009 - val_accuracy: 0.5710\n",
            "Epoch 79/200\n",
            "79/79 [==============================] - 5s 58ms/step - loss: 0.8581 - accuracy: 0.5971 - val_loss: 0.8846 - val_accuracy: 0.5966\n",
            "Epoch 80/200\n",
            "79/79 [==============================] - 4s 54ms/step - loss: 0.8525 - accuracy: 0.6054 - val_loss: 0.8743 - val_accuracy: 0.5961\n",
            "Epoch 81/200\n",
            "79/79 [==============================] - 4s 53ms/step - loss: 0.8438 - accuracy: 0.6102 - val_loss: 0.8804 - val_accuracy: 0.6002\n",
            "Epoch 82/200\n",
            "79/79 [==============================] - 4s 54ms/step - loss: 0.8467 - accuracy: 0.6067 - val_loss: 0.8666 - val_accuracy: 0.5997\n",
            "Epoch 83/200\n",
            "79/79 [==============================] - 5s 60ms/step - loss: 0.8392 - accuracy: 0.6164 - val_loss: 0.8621 - val_accuracy: 0.6051\n",
            "Epoch 84/200\n",
            "79/79 [==============================] - 4s 56ms/step - loss: 0.8331 - accuracy: 0.6172 - val_loss: 0.8743 - val_accuracy: 0.6039\n",
            "Epoch 85/200\n",
            "79/79 [==============================] - 5s 62ms/step - loss: 0.8339 - accuracy: 0.6144 - val_loss: 0.8706 - val_accuracy: 0.6032\n",
            "Epoch 86/200\n",
            "79/79 [==============================] - 4s 53ms/step - loss: 0.8231 - accuracy: 0.6204 - val_loss: 0.8608 - val_accuracy: 0.6082\n",
            "Epoch 87/200\n",
            "79/79 [==============================] - 4s 53ms/step - loss: 0.8296 - accuracy: 0.6193 - val_loss: 0.8826 - val_accuracy: 0.5936\n",
            "Epoch 88/200\n",
            "79/79 [==============================] - 4s 53ms/step - loss: 0.8238 - accuracy: 0.6210 - val_loss: 0.8558 - val_accuracy: 0.6087\n",
            "Epoch 89/200\n",
            "79/79 [==============================] - 4s 53ms/step - loss: 0.8126 - accuracy: 0.6308 - val_loss: 0.8546 - val_accuracy: 0.6105\n",
            "Epoch 90/200\n",
            "79/79 [==============================] - 4s 53ms/step - loss: 0.8120 - accuracy: 0.6324 - val_loss: 0.8790 - val_accuracy: 0.5933\n",
            "Epoch 91/200\n",
            "79/79 [==============================] - 4s 54ms/step - loss: 0.8073 - accuracy: 0.6316 - val_loss: 0.8510 - val_accuracy: 0.6094\n",
            "Epoch 92/200\n",
            "79/79 [==============================] - 4s 52ms/step - loss: 0.8009 - accuracy: 0.6360 - val_loss: 0.8401 - val_accuracy: 0.6139\n",
            "Epoch 93/200\n",
            "79/79 [==============================] - 4s 54ms/step - loss: 0.8123 - accuracy: 0.6321 - val_loss: 0.8432 - val_accuracy: 0.6114\n",
            "Epoch 94/200\n",
            "79/79 [==============================] - 4s 56ms/step - loss: 0.7895 - accuracy: 0.6402 - val_loss: 0.8371 - val_accuracy: 0.6182\n",
            "Epoch 95/200\n",
            "79/79 [==============================] - 4s 57ms/step - loss: 0.7967 - accuracy: 0.6397 - val_loss: 0.8383 - val_accuracy: 0.6170\n",
            "Epoch 96/200\n",
            "79/79 [==============================] - 4s 55ms/step - loss: 0.7831 - accuracy: 0.6436 - val_loss: 0.8333 - val_accuracy: 0.6205\n",
            "Epoch 97/200\n",
            "79/79 [==============================] - 4s 53ms/step - loss: 0.7834 - accuracy: 0.6459 - val_loss: 0.8390 - val_accuracy: 0.6150\n",
            "Epoch 98/200\n",
            "79/79 [==============================] - 4s 53ms/step - loss: 0.7829 - accuracy: 0.6464 - val_loss: 0.8411 - val_accuracy: 0.6079\n",
            "Epoch 99/200\n",
            "79/79 [==============================] - 4s 55ms/step - loss: 0.7847 - accuracy: 0.6452 - val_loss: 0.8295 - val_accuracy: 0.6190\n",
            "Epoch 100/200\n",
            "79/79 [==============================] - 4s 54ms/step - loss: 0.7761 - accuracy: 0.6494 - val_loss: 0.8344 - val_accuracy: 0.6190\n",
            "Epoch 101/200\n",
            "79/79 [==============================] - 4s 54ms/step - loss: 0.7643 - accuracy: 0.6556 - val_loss: 0.8280 - val_accuracy: 0.6155\n",
            "Epoch 102/200\n",
            "79/79 [==============================] - 4s 57ms/step - loss: 0.7627 - accuracy: 0.6540 - val_loss: 0.8374 - val_accuracy: 0.6102\n",
            "Epoch 103/200\n",
            "79/79 [==============================] - 5s 58ms/step - loss: 0.7617 - accuracy: 0.6555 - val_loss: 0.8368 - val_accuracy: 0.6092\n",
            "Epoch 104/200\n",
            "79/79 [==============================] - 4s 53ms/step - loss: 0.7576 - accuracy: 0.6605 - val_loss: 0.8283 - val_accuracy: 0.6202\n",
            "Epoch 105/200\n",
            "79/79 [==============================] - 4s 54ms/step - loss: 0.7601 - accuracy: 0.6618 - val_loss: 0.8358 - val_accuracy: 0.6165\n",
            "Epoch 106/200\n",
            "79/79 [==============================] - 4s 53ms/step - loss: 0.7505 - accuracy: 0.6641 - val_loss: 0.8510 - val_accuracy: 0.6037\n",
            "Epoch 107/200\n",
            "79/79 [==============================] - 4s 55ms/step - loss: 0.7471 - accuracy: 0.6671 - val_loss: 0.8216 - val_accuracy: 0.6210\n",
            "Epoch 108/200\n",
            "79/79 [==============================] - 4s 50ms/step - loss: 0.7427 - accuracy: 0.6638 - val_loss: 0.8372 - val_accuracy: 0.6112\n",
            "Epoch 109/200\n",
            "79/79 [==============================] - 4s 50ms/step - loss: 0.7345 - accuracy: 0.6750 - val_loss: 0.8141 - val_accuracy: 0.6230\n",
            "Epoch 110/200\n",
            "79/79 [==============================] - 5s 58ms/step - loss: 0.7343 - accuracy: 0.6738 - val_loss: 0.8316 - val_accuracy: 0.6167\n",
            "Epoch 111/200\n",
            "79/79 [==============================] - 5s 58ms/step - loss: 0.7451 - accuracy: 0.6678 - val_loss: 0.8384 - val_accuracy: 0.6084\n",
            "Epoch 112/200\n",
            "79/79 [==============================] - 4s 54ms/step - loss: 0.7407 - accuracy: 0.6687 - val_loss: 0.8147 - val_accuracy: 0.6222\n",
            "Epoch 113/200\n",
            "79/79 [==============================] - 4s 55ms/step - loss: 0.7156 - accuracy: 0.6855 - val_loss: 0.8112 - val_accuracy: 0.6260\n",
            "Epoch 114/200\n",
            "79/79 [==============================] - 4s 54ms/step - loss: 0.7205 - accuracy: 0.6766 - val_loss: 0.8509 - val_accuracy: 0.6052\n",
            "Epoch 115/200\n",
            "79/79 [==============================] - 4s 54ms/step - loss: 0.7186 - accuracy: 0.6799 - val_loss: 0.8164 - val_accuracy: 0.6242\n",
            "Epoch 116/200\n",
            "79/79 [==============================] - 4s 53ms/step - loss: 0.7083 - accuracy: 0.6886 - val_loss: 0.8269 - val_accuracy: 0.6217\n",
            "Epoch 117/200\n",
            "79/79 [==============================] - 4s 54ms/step - loss: 0.7040 - accuracy: 0.6900 - val_loss: 0.8108 - val_accuracy: 0.6250\n",
            "Epoch 118/200\n",
            "79/79 [==============================] - 4s 54ms/step - loss: 0.7073 - accuracy: 0.6884 - val_loss: 0.8502 - val_accuracy: 0.6082\n",
            "Epoch 119/200\n",
            "79/79 [==============================] - 4s 54ms/step - loss: 0.6961 - accuracy: 0.6904 - val_loss: 0.8067 - val_accuracy: 0.6227\n",
            "Epoch 120/200\n",
            "79/79 [==============================] - 4s 52ms/step - loss: 0.7062 - accuracy: 0.6861 - val_loss: 0.8184 - val_accuracy: 0.6210\n",
            "Epoch 121/200\n",
            "79/79 [==============================] - 4s 54ms/step - loss: 0.6896 - accuracy: 0.6966 - val_loss: 0.8058 - val_accuracy: 0.6287\n",
            "Epoch 122/200\n",
            "79/79 [==============================] - 4s 51ms/step - loss: 0.6832 - accuracy: 0.6979 - val_loss: 0.8184 - val_accuracy: 0.6248\n",
            "Epoch 123/200\n",
            "79/79 [==============================] - 4s 53ms/step - loss: 0.6781 - accuracy: 0.7014 - val_loss: 0.8070 - val_accuracy: 0.6265\n",
            "Epoch 124/200\n",
            "79/79 [==============================] - 4s 52ms/step - loss: 0.6766 - accuracy: 0.7012 - val_loss: 0.8111 - val_accuracy: 0.6270\n",
            "Epoch 125/200\n",
            "79/79 [==============================] - 4s 55ms/step - loss: 0.6835 - accuracy: 0.6987 - val_loss: 0.8501 - val_accuracy: 0.6094\n",
            "Epoch 126/200\n",
            "79/79 [==============================] - 4s 56ms/step - loss: 0.6833 - accuracy: 0.7018 - val_loss: 0.8046 - val_accuracy: 0.6233\n",
            "Epoch 127/200\n",
            "79/79 [==============================] - 4s 53ms/step - loss: 0.6608 - accuracy: 0.7087 - val_loss: 0.8025 - val_accuracy: 0.6275\n",
            "Epoch 128/200\n",
            "79/79 [==============================] - 4s 56ms/step - loss: 0.6714 - accuracy: 0.7049 - val_loss: 0.8062 - val_accuracy: 0.6305\n",
            "Epoch 129/200\n",
            "79/79 [==============================] - 4s 53ms/step - loss: 0.6620 - accuracy: 0.7099 - val_loss: 0.8072 - val_accuracy: 0.6307\n",
            "Epoch 130/200\n",
            "79/79 [==============================] - 4s 55ms/step - loss: 0.6639 - accuracy: 0.7078 - val_loss: 0.8096 - val_accuracy: 0.6310\n",
            "Epoch 131/200\n",
            "79/79 [==============================] - 4s 51ms/step - loss: 0.6521 - accuracy: 0.7137 - val_loss: 0.8233 - val_accuracy: 0.6283\n",
            "Epoch 132/200\n",
            "79/79 [==============================] - 5s 58ms/step - loss: 0.6437 - accuracy: 0.7180 - val_loss: 0.8118 - val_accuracy: 0.6232\n",
            "Epoch 133/200\n",
            "79/79 [==============================] - 5s 64ms/step - loss: 0.6455 - accuracy: 0.7195 - val_loss: 0.8079 - val_accuracy: 0.6333\n",
            "Epoch 134/200\n",
            "79/79 [==============================] - 4s 55ms/step - loss: 0.6433 - accuracy: 0.7184 - val_loss: 0.8221 - val_accuracy: 0.6303\n",
            "Epoch 135/200\n",
            "79/79 [==============================] - 4s 56ms/step - loss: 0.6343 - accuracy: 0.7254 - val_loss: 0.8322 - val_accuracy: 0.6263\n",
            "Epoch 136/200\n",
            "79/79 [==============================] - 4s 53ms/step - loss: 0.6406 - accuracy: 0.7208 - val_loss: 0.8140 - val_accuracy: 0.6308\n",
            "Epoch 137/200\n",
            "79/79 [==============================] - 4s 54ms/step - loss: 0.6293 - accuracy: 0.7289 - val_loss: 0.8238 - val_accuracy: 0.6308\n",
            "Epoch 138/200\n",
            "79/79 [==============================] - 4s 55ms/step - loss: 0.6211 - accuracy: 0.7279 - val_loss: 0.8285 - val_accuracy: 0.6305\n",
            "Epoch 139/200\n",
            "79/79 [==============================] - 4s 51ms/step - loss: 0.6211 - accuracy: 0.7307 - val_loss: 0.8047 - val_accuracy: 0.6368\n",
            "Epoch 140/200\n",
            "79/79 [==============================] - 4s 54ms/step - loss: 0.6165 - accuracy: 0.7323 - val_loss: 0.8186 - val_accuracy: 0.6318\n",
            "Epoch 141/200\n",
            "79/79 [==============================] - 4s 53ms/step - loss: 0.6065 - accuracy: 0.7379 - val_loss: 0.8295 - val_accuracy: 0.6278\n",
            "Epoch 142/200\n",
            "79/79 [==============================] - 4s 56ms/step - loss: 0.6098 - accuracy: 0.7344 - val_loss: 0.8264 - val_accuracy: 0.6305\n",
            "Epoch 143/200\n",
            "79/79 [==============================] - 4s 55ms/step - loss: 0.5953 - accuracy: 0.7455 - val_loss: 0.8119 - val_accuracy: 0.6308\n",
            "Epoch 144/200\n",
            "79/79 [==============================] - 4s 53ms/step - loss: 0.6035 - accuracy: 0.7410 - val_loss: 0.8167 - val_accuracy: 0.6326\n",
            "Epoch 145/200\n",
            "79/79 [==============================] - 4s 53ms/step - loss: 0.5797 - accuracy: 0.7540 - val_loss: 0.8235 - val_accuracy: 0.6355\n",
            "Epoch 146/200\n",
            "79/79 [==============================] - 5s 59ms/step - loss: 0.5884 - accuracy: 0.7441 - val_loss: 0.8430 - val_accuracy: 0.6223\n",
            "Epoch 147/200\n",
            "79/79 [==============================] - 4s 55ms/step - loss: 0.5793 - accuracy: 0.7521 - val_loss: 0.8324 - val_accuracy: 0.6262\n",
            "Epoch 148/200\n",
            "79/79 [==============================] - 4s 55ms/step - loss: 0.5765 - accuracy: 0.7572 - val_loss: 0.8933 - val_accuracy: 0.6085\n",
            "Epoch 149/200\n",
            "79/79 [==============================] - 4s 55ms/step - loss: 0.5835 - accuracy: 0.7511 - val_loss: 0.8793 - val_accuracy: 0.6180\n",
            "Epoch 150/200\n",
            "79/79 [==============================] - 5s 59ms/step - loss: 0.5886 - accuracy: 0.7445 - val_loss: 0.8371 - val_accuracy: 0.6192\n",
            "Epoch 151/200\n",
            "79/79 [==============================] - 4s 55ms/step - loss: 0.5711 - accuracy: 0.7556 - val_loss: 0.8227 - val_accuracy: 0.6237\n",
            "Epoch 152/200\n",
            "79/79 [==============================] - 4s 57ms/step - loss: 0.5589 - accuracy: 0.7636 - val_loss: 0.8721 - val_accuracy: 0.6119\n",
            "Epoch 153/200\n",
            "79/79 [==============================] - 4s 56ms/step - loss: 0.5619 - accuracy: 0.7613 - val_loss: 0.8254 - val_accuracy: 0.6307\n",
            "Epoch 154/200\n",
            "79/79 [==============================] - 4s 56ms/step - loss: 0.5460 - accuracy: 0.7714 - val_loss: 0.8493 - val_accuracy: 0.6212\n",
            "Epoch 155/200\n",
            "79/79 [==============================] - 4s 55ms/step - loss: 0.5409 - accuracy: 0.7672 - val_loss: 0.8347 - val_accuracy: 0.6336\n",
            "Epoch 156/200\n",
            "79/79 [==============================] - 4s 57ms/step - loss: 0.5513 - accuracy: 0.7627 - val_loss: 0.8642 - val_accuracy: 0.6280\n",
            "Epoch 157/200\n",
            "79/79 [==============================] - 4s 56ms/step - loss: 0.5428 - accuracy: 0.7720 - val_loss: 0.8514 - val_accuracy: 0.6287\n",
            "Epoch 158/200\n",
            "79/79 [==============================] - 4s 57ms/step - loss: 0.5423 - accuracy: 0.7714 - val_loss: 0.8554 - val_accuracy: 0.6197\n",
            "Epoch 159/200\n",
            "79/79 [==============================] - 5s 58ms/step - loss: 0.5249 - accuracy: 0.7733 - val_loss: 0.9024 - val_accuracy: 0.6080\n",
            "Epoch 160/200\n",
            "79/79 [==============================] - 4s 55ms/step - loss: 0.5289 - accuracy: 0.7702 - val_loss: 0.8649 - val_accuracy: 0.6217\n",
            "Epoch 161/200\n",
            "79/79 [==============================] - 4s 55ms/step - loss: 0.5328 - accuracy: 0.7717 - val_loss: 0.8721 - val_accuracy: 0.6210\n",
            "Epoch 162/200\n",
            "79/79 [==============================] - 4s 57ms/step - loss: 0.5297 - accuracy: 0.7766 - val_loss: 0.8632 - val_accuracy: 0.6242\n",
            "Epoch 163/200\n",
            "79/79 [==============================] - 4s 57ms/step - loss: 0.5118 - accuracy: 0.7877 - val_loss: 0.8524 - val_accuracy: 0.6262\n",
            "Epoch 164/200\n",
            "79/79 [==============================] - 4s 54ms/step - loss: 0.5083 - accuracy: 0.7842 - val_loss: 0.8596 - val_accuracy: 0.6262\n",
            "Epoch 165/200\n",
            "79/79 [==============================] - 4s 53ms/step - loss: 0.5084 - accuracy: 0.7898 - val_loss: 0.8598 - val_accuracy: 0.6313\n",
            "Epoch 166/200\n",
            "79/79 [==============================] - 5s 59ms/step - loss: 0.5023 - accuracy: 0.7882 - val_loss: 0.9917 - val_accuracy: 0.5823\n",
            "Epoch 167/200\n",
            "79/79 [==============================] - 4s 57ms/step - loss: 0.5097 - accuracy: 0.7827 - val_loss: 0.8772 - val_accuracy: 0.6248\n",
            "Epoch 168/200\n",
            "79/79 [==============================] - 5s 59ms/step - loss: 0.4830 - accuracy: 0.7966 - val_loss: 0.8746 - val_accuracy: 0.6248\n",
            "Epoch 169/200\n",
            "79/79 [==============================] - 4s 55ms/step - loss: 0.5043 - accuracy: 0.7912 - val_loss: 0.8536 - val_accuracy: 0.6292\n",
            "Epoch 170/200\n",
            "79/79 [==============================] - 4s 53ms/step - loss: 0.4840 - accuracy: 0.7946 - val_loss: 0.8762 - val_accuracy: 0.6233\n",
            "Epoch 171/200\n",
            "79/79 [==============================] - 5s 61ms/step - loss: 0.4652 - accuracy: 0.8080 - val_loss: 0.8866 - val_accuracy: 0.6215\n",
            "Epoch 172/200\n",
            "79/79 [==============================] - 5s 62ms/step - loss: 0.5015 - accuracy: 0.7905 - val_loss: 0.8623 - val_accuracy: 0.6312\n",
            "Epoch 173/200\n",
            "79/79 [==============================] - 4s 55ms/step - loss: 0.4754 - accuracy: 0.8028 - val_loss: 0.9213 - val_accuracy: 0.6215\n",
            "Epoch 174/200\n",
            "79/79 [==============================] - 5s 58ms/step - loss: 0.4686 - accuracy: 0.8052 - val_loss: 0.8936 - val_accuracy: 0.6346\n",
            "Epoch 175/200\n",
            "79/79 [==============================] - 5s 60ms/step - loss: 0.4595 - accuracy: 0.8077 - val_loss: 0.9025 - val_accuracy: 0.6255\n",
            "Epoch 176/200\n",
            "79/79 [==============================] - 5s 62ms/step - loss: 0.4474 - accuracy: 0.8150 - val_loss: 0.9355 - val_accuracy: 0.6109\n",
            "Epoch 177/200\n",
            "79/79 [==============================] - 4s 56ms/step - loss: 0.4539 - accuracy: 0.8103 - val_loss: 0.9207 - val_accuracy: 0.6262\n",
            "Epoch 178/200\n",
            "79/79 [==============================] - 4s 57ms/step - loss: 0.4592 - accuracy: 0.8078 - val_loss: 0.9356 - val_accuracy: 0.6184\n",
            "Epoch 179/200\n",
            "79/79 [==============================] - 5s 61ms/step - loss: 0.4482 - accuracy: 0.8133 - val_loss: 0.9648 - val_accuracy: 0.6159\n",
            "Epoch 180/200\n",
            "79/79 [==============================] - 5s 65ms/step - loss: 0.4585 - accuracy: 0.8091 - val_loss: 0.9393 - val_accuracy: 0.6235\n",
            "Epoch 181/200\n",
            "79/79 [==============================] - 4s 54ms/step - loss: 0.4322 - accuracy: 0.8236 - val_loss: 0.9552 - val_accuracy: 0.6270\n",
            "Epoch 182/200\n",
            "79/79 [==============================] - 5s 66ms/step - loss: 0.4370 - accuracy: 0.8168 - val_loss: 0.9194 - val_accuracy: 0.6363\n",
            "Epoch 183/200\n",
            "79/79 [==============================] - 5s 62ms/step - loss: 0.4334 - accuracy: 0.8242 - val_loss: 0.9254 - val_accuracy: 0.6179\n",
            "Epoch 184/200\n",
            "79/79 [==============================] - 4s 54ms/step - loss: 0.4185 - accuracy: 0.8268 - val_loss: 0.9521 - val_accuracy: 0.6213\n",
            "Epoch 185/200\n",
            "79/79 [==============================] - 5s 65ms/step - loss: 0.4493 - accuracy: 0.8104 - val_loss: 0.9431 - val_accuracy: 0.6265\n",
            "Epoch 186/200\n",
            "79/79 [==============================] - 5s 58ms/step - loss: 0.4052 - accuracy: 0.8345 - val_loss: 0.9511 - val_accuracy: 0.6248\n",
            "Epoch 187/200\n",
            "79/79 [==============================] - 4s 56ms/step - loss: 0.4130 - accuracy: 0.8289 - val_loss: 0.9286 - val_accuracy: 0.6278\n",
            "Epoch 188/200\n",
            "79/79 [==============================] - 4s 56ms/step - loss: 0.4178 - accuracy: 0.8275 - val_loss: 0.9318 - val_accuracy: 0.6302\n",
            "Epoch 189/200\n",
            "79/79 [==============================] - 4s 57ms/step - loss: 0.3981 - accuracy: 0.8361 - val_loss: 0.9379 - val_accuracy: 0.6303\n",
            "Epoch 190/200\n",
            "79/79 [==============================] - 4s 54ms/step - loss: 0.4002 - accuracy: 0.8353 - val_loss: 0.9565 - val_accuracy: 0.6330\n",
            "Epoch 191/200\n",
            "79/79 [==============================] - 5s 59ms/step - loss: 0.3953 - accuracy: 0.8382 - val_loss: 0.9502 - val_accuracy: 0.6275\n",
            "Epoch 192/200\n",
            "79/79 [==============================] - 5s 65ms/step - loss: 0.3751 - accuracy: 0.8465 - val_loss: 1.0225 - val_accuracy: 0.6175\n",
            "Epoch 193/200\n",
            "79/79 [==============================] - 5s 58ms/step - loss: 0.3679 - accuracy: 0.8522 - val_loss: 1.0207 - val_accuracy: 0.6090\n",
            "Epoch 194/200\n",
            "79/79 [==============================] - 4s 55ms/step - loss: 0.3760 - accuracy: 0.8486 - val_loss: 0.9748 - val_accuracy: 0.6208\n",
            "Epoch 195/200\n",
            "79/79 [==============================] - 5s 59ms/step - loss: 0.3711 - accuracy: 0.8506 - val_loss: 0.9960 - val_accuracy: 0.6277\n",
            "Epoch 196/200\n",
            "79/79 [==============================] - 4s 57ms/step - loss: 0.3855 - accuracy: 0.8405 - val_loss: 0.9892 - val_accuracy: 0.6223\n",
            "Epoch 197/200\n",
            "79/79 [==============================] - 5s 58ms/step - loss: 0.3626 - accuracy: 0.8514 - val_loss: 1.0149 - val_accuracy: 0.6212\n",
            "Epoch 198/200\n",
            "79/79 [==============================] - 4s 56ms/step - loss: 0.3489 - accuracy: 0.8558 - val_loss: 1.0343 - val_accuracy: 0.6147\n",
            "Epoch 199/200\n",
            "79/79 [==============================] - 4s 55ms/step - loss: 0.3808 - accuracy: 0.8439 - val_loss: 1.0159 - val_accuracy: 0.6307\n",
            "Epoch 200/200\n",
            "79/79 [==============================] - 4s 56ms/step - loss: 0.3506 - accuracy: 0.8581 - val_loss: 1.1081 - val_accuracy: 0.6208\n"
          ]
        }
      ],
      "source": [
        "# fitting model\n",
        "history = model.fit(\n",
        "    train_dataset,\n",
        "    steps_per_epoch = len(train_df) // batch_size,\n",
        "    epochs = 200,\n",
        "    validation_data = val_dataset,\n",
        "    validation_steps = len(val_df) // batch_size,\n",
        "  \n",
        ")"
      ]
    },
    {
      "cell_type": "markdown",
      "metadata": {
        "id": "KMzqrD37WLVp"
      },
      "source": [
        "#Visualize the Result"
      ]
    },
    {
      "cell_type": "code",
      "execution_count": 90,
      "metadata": {
        "colab": {
          "base_uri": "https://localhost:8080/",
          "height": 376
        },
        "id": "8AK14vu4Ox2T",
        "outputId": "a0d1d83b-b770-4845-afe6-929456b07e19"
      },
      "outputs": [
        {
          "data": {
            "image/png": "[encoded data removed]",
            "text/plain": [
              "<Figure size 576x396 with 1 Axes>"
            ]
          },
          "metadata": {},
          "output_type": "display_data"
        }
      ],
      "source": [
        "import matplotlib.pyplot as plt\n",
        "plt.plot(history.history['accuracy'])\n",
        "plt.plot(history.history['val_accuracy'])\n",
        "plt.title('Akurasi Model')\n",
        "plt.ylabel('accuracy')\n",
        "plt.xlabel('epoch')\n",
        "plt.legend(['train', 'test'], loc='upper left')\n",
        "plt.show()"
      ]
    },
    {
      "cell_type": "code",
      "execution_count": 91,
      "metadata": {
        "colab": {
          "base_uri": "https://localhost:8080/",
          "height": 376
        },
        "id": "tfD_bk4bO2UN",
        "outputId": "a8cc8d58-0f93-497b-fd28-5a4530ec8618"
      },
      "outputs": [
        {
          "data": {
            "image/png": "[encoded data removed]",
            "text/plain": [
              "<Figure size 576x396 with 1 Axes>"
            ]
          },
          "metadata": {},
          "output_type": "display_data"
        }
      ],
      "source": [
        "plt.plot(history.history['loss'])\n",
        "plt.plot(history.history['val_loss'])\n",
        "plt.title('Loss Model')\n",
        "plt.ylabel('loss')\n",
        "plt.xlabel('epoch')\n",
        "plt.legend(['train', 'test'], loc='upper left')\n",
        "plt.show()"
      ]
    },
    {
      "cell_type": "markdown",
      "metadata": {
        "id": "4SPh1CeOeHBr"
      },
      "source": [
        "#Test model"
      ]
    },
    {
      "cell_type": "code",
      "execution_count": 98,
      "metadata": {
        "colab": {
          "base_uri": "https://localhost:8080/",
          "height": 421,
          "resources": {
            "http://localhost:8080/nbextensions/google.colab/files.js": {
              "data": "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",
              "headers": [
                [
                  "content-type",
                  "application/javascript"
                ]
              ],
              "ok": true,
              "status": 200,
              "status_text": ""
            }
          }
        },
        "id": "VPfcSsxsO7pQ",
        "outputId": "44339068-cd2e-40c7-b88d-3d6f0c9822dd"
      },
      "outputs": [
        {
          "data": {
            "text/html": [
              "\n",
              "     <input type=\"file\" id=\"files-31784d4d-2988-4406-aa7a-8b5c7fba5454\" name=\"files[]\" multiple disabled\n",
              "        style=\"border:none\" />\n",
              "     <output id=\"result-31784d4d-2988-4406-aa7a-8b5c7fba5454\">\n",
              "      Upload widget is only available when the cell has been executed in the\n",
              "      current browser session. Please rerun this cell to enable.\n",
              "      </output>\n",
              "      <script src=\"/nbextensions/google.colab/files.js\"></script> "
            ],
            "text/plain": [
              "<IPython.core.display.HTML object>"
            ]
          },
          "metadata": {},
          "output_type": "display_data"
        },
        {
          "name": "stdout",
          "output_type": "stream",
          "text": [
            "Saving images (1).jpg to images (1) (3).jpg\n",
            "Sad\n"
          ]
        },
        {
          "data": {
            "image/png": "[encoded data removed]",
            "text/plain": [
              "<Figure size 576x396 with 1 Axes>"
            ]
          },
          "metadata": {},
          "output_type": "display_data"
        }
      ],
      "source": [
        "from google.colab import files\n",
        "from keras.preprocessing import image\n",
        "\n",
        "uploaded = files.upload()\n",
        "\n",
        "for path in uploaded.keys():\n",
        "  img = image.load_img(path, target_size=(dim,dim))\n",
        "  imgplot = plt.imshow(img)\n",
        "  x = image.img_to_array(img)\n",
        "  x = np.expand_dims(x, axis=0)\n",
        "  images = np.vstack([x])\n",
        "  images /= 255 # because on train and test image is normalized, on image predict supposed to be too.\n",
        "  classes = model.predict(images, batch_size=32) # the value is not always 1 and 0 because of probabilities\n",
        "  predicted_class_indices=np.argmax(classes) # use to check prediction that have higher probabilities\n",
        "\n",
        "# if predicted_class_indices == 0:\n",
        "#     print('Angry')\n",
        "# elif predicted_class_indices == 1:\n",
        "#   print('Fearful')\n",
        "# elif predicted_class_indices == 2:\n",
        "#   print('Happy')\n",
        "# elif predicted_class_indices == 3:\n",
        "#   print('Neutral')\n",
        "# elif predicted_class_indices == 4:\n",
        "#   print('Sad')\n",
        "# elif predicted_class_indices == 5:\n",
        "#   print('Surprised')\n",
        "\n",
        "if predicted_class_indices == 0:#Happy\n",
        "  print('Happy')\n",
        "elif predicted_class_indices == 1:#Neutral\n",
        "  print('Neutral')\n",
        "elif predicted_class_indices == 2:#Sad\n",
        "  print('Sad')"
      ]
    },
    {
      "cell_type": "markdown",
      "metadata": {
        "id": "d8MW7rxdWXAc"
      },
      "source": [
        "#Save Model"
      ]
    },
    {
      "cell_type": "code",
      "execution_count": null,
      "metadata": {
        "colab": {
          "base_uri": "https://localhost:8080/"
        },
        "id": "AaS2dzvakvbb",
        "outputId": "c9499ad1-74a2-4dff-b87b-555f7c661b80"
      },
      "outputs": [],
      "source": [
        "import tempfile\n",
        "MODEL_DIR = tempfile.gettempdir()\n",
        "\n",
        "version = 1\n",
        "\n",
        "export_path = os.path.join(MODEL_DIR, str(version))\n",
        "\n",
        "if os.path.isdir(export_path):\n",
        "    print('\\nAlready saved a model, cleaning up\\n')\n",
        "    !rm -r {export_path}\n",
        "\n",
        "model.save(export_path, save_format=\"tf\")\n",
        "\n",
        "print('\\nexport_path = {}'.format(export_path))\n",
        "!ls -l {export_path}"
      ]
    },
    {
      "cell_type": "code",
      "execution_count": null,
      "metadata": {
        "colab": {
          "base_uri": "https://localhost:8080/"
        },
        "id": "3u8L-yS3gcnT",
        "outputId": "ddc37483-dc22-4065-a1db-846ff79f8fab"
      },
      "outputs": [],
      "source": [
        "# Intialize the TFLite converter to load the SavedModel\n",
        "converter = tf.lite.TFLiteConverter.from_saved_model(export_path)\n",
        "\n",
        "# Set the optimization strategy for 'size' in the converter \n",
        "converter.optimizations = [tf.lite.Optimize.OPTIMIZE_FOR_SIZE]\n",
        "\n",
        "# Use the tool to finally convert the model\n",
        "tflite_model = converter.convert()\n",
        "\n",
        "# Write TFLite model\n",
        "tflite_model_file = 'emotion_clasification_01.tflite'\n",
        "\n",
        "with open(tflite_model_file, \"wb\") as f:\n",
        "    f.write(tflite_model)\n",
        "\n",
        "with open('emotion_clasification_01.txt', 'w') as f:\n",
        "    f.write('\\n'.join(label_types))"
      ]
    },
    {
      "cell_type": "code",
      "execution_count": 95,
      "metadata": {
        "id": "XDatctWbgeol"
      },
      "outputs": [],
      "source": [
        "model.save('emotion_clasification_01.h5')"
      ]
    },
    {
      "cell_type": "code",
      "execution_count": null,
      "metadata": {
        "colab": {
          "base_uri": "https://localhost:8080/"
        },
        "id": "CKbU17k8WfDN",
        "outputId": "9ad22338-af9e-42c3-876f-8fa0f5ddcfc8"
      },
      "outputs": [],
      "source": [
        "import pickle\n",
        "\n",
        "pickle.dump(model, open('emotion_clasification_01.pkl', 'wb'))"
      ]
    },
    {
      "cell_type": "code",
      "execution_count": null,
      "metadata": {
        "id": "aKiM6Nz8jts2"
      },
      "outputs": [],
      "source": [
        "pickled_model = pickle.load(open('emotion_clasification_01.pkl', 'rb'))\n",
        "pickled_model.predict()"
      ]
    }
  ],
  "metadata": {
    "accelerator": "GPU",
    "colab": {
      "collapsed_sections": [],
      "name": "Copy of emotion1.ipynb",
      "provenance": []
    },
    "kernelspec": {
      "display_name": "Python 3",
      "name": "python3"
    },
    "language_info": {
      "name": "python"
    }
  },
  "nbformat": 4,
  "nbformat_minor": 0
}
